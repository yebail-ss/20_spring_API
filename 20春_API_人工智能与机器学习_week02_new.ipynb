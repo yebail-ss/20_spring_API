{
 "cells": [
  {
   "cell_type": "markdown",
   "metadata": {},
   "source": [
    "# API 文档介绍（Azure API）\n",
    "* 本周主要内容：API文档阅读介绍及计算机视觉入门（认知服务）\n",
    "* 20春_API_人工智能与机器学习_week02\n",
    "*  电子讲义设计者：许智超，廖汉腾\n",
    "<br/>\n",
    "<br/>\n",
    "\n",
    "![app_交互设计](https://pic2.zhimg.com/v2-6c478325d02ca3363ec1817a952d5321_r.jpg)\n",
    "\n",
    "* 假想一個團隊，有前后端、PM及UI，要開發畢業相本App，人臉識別如何\n",
    "    * (1)扮演加值的角色?\n",
    "    * (2)給用戶的核心價值?\n",
    "    * (3)UI需要什麼?\n",
    "       * (3A)照片分類(API能做什麼 人臉同一張, 表情...\n",
    "       * (3B)HTML+JS數據, 人臉在照片上的哪個位置, 對映到誰\n",
    "    * (4)后端需要什麼?\n",
    "        * (4A)API叫用-->Web Mining\n",
    "        * (4B)叫用后的數據整理及分析-->Pandas\n",
    "\n",
    "-----\n",
    "![app_API_交互设计](http://coverall1.splunk.com/web_assets/developers/devguide/Essentials02_Splunk_app_architecture.png)\n",
    "\n",
    "## 复习\n",
    "\n",
    "复习1：上周内容，AI、API、机器学习的基本认知以及数据科学的基本流程  \n",
    "\n",
    "* 1、API for AI 有哪些人工智能的分类（计算机视觉、语义识别、自然语言处理、推荐系统）\n",
    "* 2、机器学习的关键输入是什么？（有一定规范的数据）\n",
    "* 3、数据科学的基本流程（四个循环环节:问题定义->ETL和特征值提取->学习（机器）->模型部署）\n",
    "\n",
    "复习2：jupyter的基本使用，json、requests  主要包括以下内容可能涉及的API操作：\n",
    "\n",
    "* 1、requests POST传递参数 的基础用法\n",
    "* 2、JSON 格式的基本转换（字典）\n",
    "* 3、字典的处理，pandas转化数据结构\n",
    "<br/>\n",
    "<br/>\n",
    "\n",
    "\n",
    "-----\n",
    "\n",
    "![Face_识别示例](http://q7rdfqeve.bkt.clouddn.com/Azure_img.jpg)\n",
    "\n",
    "\n",
    "## 本周内容及学习目标\n",
    "\n",
    "本周内容聚集在复习1中的计算机视觉，以及复习2中的API操作部分，学习解决一下挑战：\n",
    "\n",
    "1. 尝试操作计算机视觉人脸识别返回[人脸识别效果](https://azure.microsoft.com/zh-cn/services/cognitive-services/face/)\n",
    "2. 阅读Azure计算机视觉的[人脸文档](https://docs.microsoft.com/zh-cn/azure/cognitive-services/face/)，以及[人脸 API v1.0文档](https://westus.dev.cognitive.microsoft.com/docs/services/563879b61984550e40cbbe8d/operations/563879b61984550f30395236)\n",
    "2. 观看影片[知智1分钟计算机视觉](https://zhuanlan.zhihu.com/p/35652529) 与[知智1分钟人脸识别](https://zhuanlan.zhihu.com/p/36262110)\n",
    "3. 注册Azure 使用API免费服务，获取key以为获取API应用做准备\n",
    "4. 使用requests，用代码取得API回复\n",
    "5. 写出代码，实现输入一个图片URL，可以识别出每个人脸的年龄、性别、眼镜的，加总成绩1分；列出每个人最可能的3种情绪及其判别值再加1分。\n",
    "6. 使用pandas 将返回数据用数据框展示出来。\n",
    "\n",
    "\n"
   ]
  },
  {
   "cell_type": "code",
   "execution_count": 497,
   "metadata": {},
   "outputs": [
    {
     "data": {
      "text/html": [
       "<style>\n",
       "/* 本电子讲义使用之CSS */\n",
       "div.code_cell {\n",
       "    background-color: #e5f1fe;\n",
       "}\n",
       "div.cell.selected {\n",
       "    background-color: #effee2;\n",
       "    font-size: 2rem;\n",
       "    line-height: 2.4rem;\n",
       "}\n",
       "div.cell.selected .rendered_html table {\n",
       "    font-size: 2rem !important;\n",
       "    line-height: 2.4rem !important;\n",
       "}\n",
       ".rendered_html pre code {\n",
       "    background-color: #C4E4ff;   \n",
       "    padding: 2px 25px;\n",
       "}\n",
       ".rendered_html pre {\n",
       "    background-color: #99c9ff;\n",
       "}\n",
       "div.code_cell .CodeMirror {\n",
       "    font-size: 2rem !important;\n",
       "    line-height: 2.4rem !important;\n",
       "}\n",
       ".rendered_html img, .rendered_html svg {\n",
       "    max-width: 50%;\n",
       "    height: auto;\n",
       "    float: center;\n",
       "}\n",
       "/* Gradient transparent - color - transparent */\n",
       "hr {\n",
       "    border: 0;\n",
       "    border-bottom: 1px dashed #ccc;\n",
       "}\n",
       ".emoticon{\n",
       "    font-size: 5rem;\n",
       "    line-height: 4.4rem;\n",
       "    text-align: center;\n",
       "    vertical-align: middle;\n",
       "}\n",
       "\n",
       "</style>\n"
      ],
      "text/plain": [
       "<IPython.core.display.HTML object>"
      ]
     },
     "metadata": {},
     "output_type": "display_data"
    }
   ],
   "source": [
    "%%html\n",
    "<style>\n",
    "/* 本电子讲义使用之CSS */\n",
    "div.code_cell {\n",
    "    background-color: #e5f1fe;\n",
    "}\n",
    "div.cell.selected {\n",
    "    background-color: #effee2;\n",
    "    font-size: 2rem;\n",
    "    line-height: 2.4rem;\n",
    "}\n",
    "div.cell.selected .rendered_html table {\n",
    "    font-size: 2rem !important;\n",
    "    line-height: 2.4rem !important;\n",
    "}\n",
    ".rendered_html pre code {\n",
    "    background-color: #C4E4ff;   \n",
    "    padding: 2px 25px;\n",
    "}\n",
    ".rendered_html pre {\n",
    "    background-color: #99c9ff;\n",
    "}\n",
    "div.code_cell .CodeMirror {\n",
    "    font-size: 2rem !important;\n",
    "    line-height: 2.4rem !important;\n",
    "}\n",
    ".rendered_html img, .rendered_html svg {\n",
    "    max-width: 50%;\n",
    "    height: auto;\n",
    "    float: center;\n",
    "}\n",
    "/* Gradient transparent - color - transparent */\n",
    "hr {\n",
    "    border: 0;\n",
    "    border-bottom: 1px dashed #ccc;\n",
    "}\n",
    ".emoticon{\n",
    "    font-size: 5rem;\n",
    "    line-height: 4.4rem;\n",
    "    text-align: center;\n",
    "    vertical-align: middle;\n",
    "}\n",
    "\n",
    "</style>"
   ]
  },
  {
   "cell_type": "markdown",
   "metadata": {},
   "source": [
    "# 教不完所有API，但可以学如何读、用API文件\n",
    "\n",
    "## Review: URLs for API documentation\n",
    "\n",
    "* Symbol ? 标记\n",
    "* Base url 目标API的url\n",
    "* Directories 目录, 功能\n",
    "    * [face++ detect API](https://console.faceplusplus.com.cn/documents/4888373) \n",
    "        * [https://api-cn.faceplusplus.com/facepp/v3/detect?](https://api-cn.faceplusplus.com/facepp/v3/detect)\n",
    "    * [搜索POI](https://lbs.amap.com/api/webservice/guide/api/search)\n",
    "        * [https://restapi.amap.com/v3/place/text?parameters](https://restapi.amap.com/v3/place/text?parameters)\n",
    "    * [行政区域查询](https://lbs.amap.com/api/webservice/guide/api/district)\n",
    "        * [https://restapi.amap.com/v3/config/district?parameters](https://restapi.amap.com/v3/config/district?parameters)\n",
    "       "
   ]
  },
  {
   "cell_type": "markdown",
   "metadata": {},
   "source": [
    "# Review: APIs use HTTP, HTTP requests的不同模式\n",
    "\n",
    "* GET\n",
    "* POST\n",
    "* (optional) DELETE\n",
    "* e.g\n",
    "    * [https://westus.dev.cognitive.microsoft.com/docs/services/563879b61984550e40cbbe8d/operations/563879b61984550f30395236](https://westus.dev.cognitive.microsoft.com/docs/services/563879b61984550e40cbbe8d/operations/563879b61984550f30395236)\n",
    "\n",
    "\n",
    "![Requests](http://cn.python-requests.org/zh_CN/latest/_static/requests-sidebar.png)\n",
    "\n",
    "----\n",
    "\n",
    "\n",
    "request复习\n",
    "\n",
    "* [http://cn.python-requests.org/zh_CN/latest/](http://cn.python-requests.org/zh_CN/latest/)\n"
   ]
  },
  {
   "cell_type": "markdown",
   "metadata": {},
   "source": [
    "# 如果有SDK (Software Developent Kit)--> 不用自己叫HTTP requests\n",
    "\n",
    "* [Azure API for Cognitive-Face-Python](https://docs.microsoft.com/zh-cn/azure/cognitive-services/face/quickstarts/python-sdk)\n",
    "* 好处: 不用HTTP requests代码\n",
    "* 难点: SDK可能需要阅读另外的文档來叫用。若沒有SDK文档，你要自己看懂代碼"
   ]
  },
  {
   "cell_type": "markdown",
   "metadata": {},
   "source": [
    "# 如果不想用，我们还是应该自己学会如何叫HTTP requests\n",
    "\n",
    "* img_url  \n",
    "\n",
    "http://newmedia.nfu.edu.cn/wcy/wp-content/uploads/2018/04/post_20180424__NFU_DoraHacks_imoji%E5%9B%A2%E9%98%9F.jpg\n",
    "\n",
    "![http://newmedia.nfu.edu.cn/wcy/wp-content/uploads/2018/04/post_20180424__NFU_DoraHacks_imoji%E5%9B%A2%E9%98%9F.jpg](http://newmedia.nfu.edu.cn/wcy/wp-content/uploads/2018/04/post_20180424__NFU_DoraHacks_imoji%E5%9B%A2%E9%98%9F.jpg)"
   ]
  },
  {
   "cell_type": "markdown",
   "metadata": {},
   "source": [
    "# 参考API文档\n",
    "\n",
    "* [Face API - v1.0](https://westus.dev.cognitive.microsoft.com/docs/services/563879b61984550e40cbbe8d/operations/563879b61984550f3039524c)\n",
    "\n",
    "* [API URL format]\n",
    "    * Request URL [https://[location].api.cognitive.microsoft.com/face/v1.0/detect[?returnFaceId][&returnFaceLandmarks][&returnFaceAttributes]](https://[location].api.cognitive.microsoft.com/face/v1.0/detect[?returnFaceId][&returnFaceLandmarks][&returnFaceAttributes)\n",
    "    * symbol ?\n",
    "    * [location]\n",
    "    * base url  [https://[location].api.cognitive.microsoft.com/face/v1.0/detect](https://[location].api.cognitive.microsoft.com/face/v1.0/detect)\n",
    "    \n",
    "## Python Code sample\n",
    "\n",
    "\n",
    "请大家在Azure网站上面找到这两部分内容~我会找同学分享屏幕展示\n",
    "\n",
    "\n",
    "```python\n",
    "\n",
    "########### Python 3.2 #############\n",
    "import http.client, urllib.request, urllib.parse, urllib.error, base64\n",
    "\n",
    "headers = {\n",
    "    # Request headers\n",
    "    'Content-Type': 'application/json',\n",
    "    'Ocp-Apim-Subscription-Key': '{subscription key}',\n",
    "}\n",
    "\n",
    "params = urllib.parse.urlencode({\n",
    "    # Request parameters\n",
    "    'returnFaceId': 'true',\n",
    "    'returnFaceLandmarks': 'false',\n",
    "    'returnFaceAttributes': '{string}',\n",
    "})\n",
    "\n",
    "try:\n",
    "    conn = http.client.HTTPSConnection('westus.api.cognitive.microsoft.com')\n",
    "    conn.request(\"POST\", \"/face/v1.0/detect?%s\" % params, \"{body}\", headers)\n",
    "    response = conn.getresponse()\n",
    "    data = response.read()\n",
    "    print(data)\n",
    "    conn.close()\n",
    "except Exception as e:\n",
    "    print(\"[Errno {0}] {1}\".format(e.errno, e.strerror))\n",
    "\n",
    "```\n",
    "----\n",
    "\n",
    "```python\n",
    "\n",
    "import requests\n",
    "import json\n",
    "\n",
    "# set to your own subscription key value\n",
    "subscription_key = None\n",
    "assert subscription_key\n",
    "\n",
    "# replace <My Endpoint String> with the string from your endpoint URL\n",
    "face_api_url = 'https://<My Endpoint String>.com/face/v1.0/detect'\n",
    "\n",
    "image_url = 'https://upload.wikimedia.org/wikipedia/commons/3/37/Dagestani_man_and_woman.jpg'\n",
    "\n",
    "headers = {'Ocp-Apim-Subscription-Key': subscription_key}\n",
    "\n",
    "params = {\n",
    "    'returnFaceId': 'true',\n",
    "    'returnFaceLandmarks': 'false',\n",
    "    # 可选参数,请仔细阅读API文档\n",
    "    'returnFaceAttributes': 'age,gender,headPose,smile,facialHair,glasses,emotion,hair,makeup,occlusion,accessories,blur,exposure,noise',\n",
    "}\n",
    "\n",
    "response = requests.post(face_api_url, params=params,\n",
    "                         headers=headers, json={\"url\": image_url})\n",
    "print(json.dumps(response.json()))\n",
    "\n",
    "```"
   ]
  },
  {
   "cell_type": "markdown",
   "metadata": {},
   "source": [
    "* 1、导入需要的requests模块"
   ]
  },
  {
   "cell_type": "code",
   "execution_count": 498,
   "metadata": {},
   "outputs": [],
   "source": [
    "# 先导入为们需要的模块\n",
    "import requests\n",
    "import json"
   ]
  },
  {
   "cell_type": "markdown",
   "metadata": {},
   "source": [
    "* 2、输入我们需要API网站注册的API_Key"
   ]
  },
  {
   "cell_type": "code",
   "execution_count": 499,
   "metadata": {},
   "outputs": [],
   "source": [
    "KEY = '3a0ed2e295294e0a94e8423fc5a2b63e'  ##更换成自己的key值"
   ]
  },
  {
   "cell_type": "markdown",
   "metadata": {},
   "source": [
    "* 3、目标url [base url] "
   ]
  },
  {
   "cell_type": "code",
   "execution_count": 500,
   "metadata": {},
   "outputs": [],
   "source": [
    "# Base URL,  Request URL中 符号?以前\n",
    "#。                          eastasia.api.cognitive.microsoft.com  ==》{endpoint}\n",
    "BASE_URL = 'https://westcentralus.api.cognitive.microsoft.com/face/v1.0/detect'\n",
    "# base_url 注册的azure账号的终结点/v1.0/detect\n",
    "# python代码具体怎么引用api参考文档\n",
    "# https://docs.microsoft.com/zh-cn/azure/cognitive-services/face/quickstarts/python\n",
    "\n"
   ]
  },
  {
   "cell_type": "markdown",
   "metadata": {},
   "source": [
    "* 4、沿用API文档的示范代码,准备我们的headers和图片(数据)"
   ]
  },
  {
   "cell_type": "code",
   "execution_count": 501,
   "metadata": {},
   "outputs": [],
   "source": [
    "# 沿用API的示范代碼，{subscription key}用KEY代入\n",
    "HEADERS = {\n",
    "    # Request headers\n",
    "    'Content-Type': 'application/json',  ## 规范下语言为json\n",
    "    'Ocp-Apim-Subscription-Key': '{}'.format(KEY), #取得密钥给headers  \n",
    "}\n",
    "\n",
    "img_url = 'http://newmedia.nfu.edu.cn/wcy/wp-content/uploads/2018/04/post_20180424__NFU_DoraHacks_imoji%E5%9B%A2%E9%98%9F.jpg'\n",
    "## 图片链接"
   ]
  },
  {
   "cell_type": "markdown",
   "metadata": {},
   "source": [
    "* 5、准备symbol ? 后面的数据,这里需要注意,一定要详细阅读API文档中的 “参数功能”,按照要求格式准备payload\n",
    "\n",
    "* 参数功能可能有:\n",
    "    * 1、是否必要?必要的一定要准备好\n",
    "    * 2、选填的一定是功能,要根据功能需求 好好填噢"
   ]
  },
  {
   "cell_type": "code",
   "execution_count": 502,
   "metadata": {},
   "outputs": [],
   "source": [
    "data = {\n",
    "    'url': '{}'.format(img_url), ## 读取url的数据\n",
    "}\n",
    "payload = {  \n",
    "    ## https://azure.microsoft.com/zh-cn/services/cognitive-services/face/\n",
    "    ## 可以在这个界面输入url取得对应的参数，在对想要的参数进行获取\n",
    "    'returnFaceId': 'true',\n",
    "    'returnFaceLandmarks': 'false',\n",
    "    'returnFaceAttributes': '{''}'.format('age,gender,glasses,emotion'), \n",
    "}"
   ]
  },
  {
   "cell_type": "markdown",
   "metadata": {},
   "source": [
    "* 6、requests发送我们请求\n",
    "\n",
    "* 注意:\n",
    "    * 详细阅读文档,注意请求方式(GET、POST、DELETE)\n",
    "    * 注意json 和字典的差异 ,str vs dict"
   ]
  },
  {
   "cell_type": "code",
   "execution_count": 503,
   "metadata": {},
   "outputs": [],
   "source": [
    "# 坑。参考http://docs.python-requests.org/zh_CN/latest/user/quickstart.html  【更加复杂的post请求】\n",
    "# 差別是 string 字串 vs. dict 字典\n",
    "# Azura 使用的是 data = json.dumps(payload) 或 json=payload，data = payload 会出错\n",
    "r = requests.post(BASE_URL, data=json.dumps(data), params=payload, headers=HEADERS)\n",
    "## dump对变量进行颠倒\n",
    "## 官方写法参考 https://azure.microsoft.com/zh-cn/services/cognitive-services/face/\n"
   ]
  },
  {
   "cell_type": "code",
   "execution_count": 504,
   "metadata": {},
   "outputs": [
    {
     "data": {
      "text/plain": [
       "200"
      ]
     },
     "execution_count": 504,
     "metadata": {},
     "output_type": "execute_result"
    }
   ],
   "source": [
    "r.status_code  ##查看状态码\n"
   ]
  },
  {
   "cell_type": "code",
   "execution_count": 505,
   "metadata": {},
   "outputs": [
    {
     "data": {
      "text/plain": [
       "<Response [200]>"
      ]
     },
     "execution_count": 505,
     "metadata": {},
     "output_type": "execute_result"
    }
   ],
   "source": [
    "r"
   ]
  },
  {
   "cell_type": "markdown",
   "metadata": {},
   "source": [
    "## 拿到数据会不会很开心? 不过我们还可以做的更好\n",
    "* 别忘记我们是会基本处理数据的,至少要想到用pandas表格化数据."
   ]
  },
  {
   "cell_type": "code",
   "execution_count": 506,
   "metadata": {
    "scrolled": true
   },
   "outputs": [
    {
     "data": {
      "text/plain": [
       "[{'faceId': '1ef5ec67-1782-4efb-9ccb-53dcd60ddb8d',\n",
       "  'faceRectangle': {'top': 118, 'left': 144, 'width': 88, 'height': 88},\n",
       "  'faceAttributes': {'gender': 'male',\n",
       "   'age': 18.0,\n",
       "   'glasses': 'NoGlasses',\n",
       "   'emotion': {'anger': 0.0,\n",
       "    'contempt': 0.003,\n",
       "    'disgust': 0.0,\n",
       "    'fear': 0.0,\n",
       "    'happiness': 0.813,\n",
       "    'neutral': 0.184,\n",
       "    'sadness': 0.0,\n",
       "    'surprise': 0.0}}},\n",
       " {'faceId': 'ca48d3e0-149b-42d4-86b2-0b5665823e41',\n",
       "  'faceRectangle': {'top': 117, 'left': 376, 'width': 64, 'height': 64},\n",
       "  'faceAttributes': {'gender': 'female',\n",
       "   'age': 20.0,\n",
       "   'glasses': 'NoGlasses',\n",
       "   'emotion': {'anger': 0.0,\n",
       "    'contempt': 0.001,\n",
       "    'disgust': 0.0,\n",
       "    'fear': 0.0,\n",
       "    'happiness': 0.456,\n",
       "    'neutral': 0.542,\n",
       "    'sadness': 0.001,\n",
       "    'surprise': 0.0}}},\n",
       " {'faceId': 'df04a73e-52b7-4ff2-a9e4-32412aa5f15e',\n",
       "  'faceRectangle': {'top': 41, 'left': 676, 'width': 52, 'height': 52},\n",
       "  'faceAttributes': {'gender': 'male',\n",
       "   'age': 23.0,\n",
       "   'glasses': 'ReadingGlasses',\n",
       "   'emotion': {'anger': 0.0,\n",
       "    'contempt': 0.0,\n",
       "    'disgust': 0.0,\n",
       "    'fear': 0.0,\n",
       "    'happiness': 1.0,\n",
       "    'neutral': 0.0,\n",
       "    'sadness': 0.0,\n",
       "    'surprise': 0.0}}},\n",
       " {'faceId': '224aa441-93cc-4316-8ed4-288d12a6d6c2',\n",
       "  'faceRectangle': {'top': 69, 'left': 445, 'width': 52, 'height': 52},\n",
       "  'faceAttributes': {'gender': 'female',\n",
       "   'age': 21.0,\n",
       "   'glasses': 'NoGlasses',\n",
       "   'emotion': {'anger': 0.0,\n",
       "    'contempt': 0.0,\n",
       "    'disgust': 0.0,\n",
       "    'fear': 0.0,\n",
       "    'happiness': 1.0,\n",
       "    'neutral': 0.0,\n",
       "    'sadness': 0.0,\n",
       "    'surprise': 0.0}}},\n",
       " {'faceId': '43c79d73-b7a7-48fc-9520-6102c8137949',\n",
       "  'faceRectangle': {'top': 95, 'left': 238, 'width': 51, 'height': 51},\n",
       "  'faceAttributes': {'gender': 'female',\n",
       "   'age': 17.0,\n",
       "   'glasses': 'ReadingGlasses',\n",
       "   'emotion': {'anger': 0.0,\n",
       "    'contempt': 0.0,\n",
       "    'disgust': 0.0,\n",
       "    'fear': 0.0,\n",
       "    'happiness': 0.981,\n",
       "    'neutral': 0.019,\n",
       "    'sadness': 0.0,\n",
       "    'surprise': 0.0}}},\n",
       " {'faceId': 'd93baa98-8e6a-4ab6-bf55-d994ae5484be',\n",
       "  'faceRectangle': {'top': 94, 'left': 540, 'width': 48, 'height': 48},\n",
       "  'faceAttributes': {'gender': 'female',\n",
       "   'age': 19.0,\n",
       "   'glasses': 'NoGlasses',\n",
       "   'emotion': {'anger': 0.0,\n",
       "    'contempt': 0.0,\n",
       "    'disgust': 0.0,\n",
       "    'fear': 0.0,\n",
       "    'happiness': 1.0,\n",
       "    'neutral': 0.0,\n",
       "    'sadness': 0.0,\n",
       "    'surprise': 0.0}}}]"
      ]
     },
     "execution_count": 506,
     "metadata": {},
     "output_type": "execute_result"
    }
   ],
   "source": [
    "import pandas as pd\n",
    "from pandas.io.json import json_normalize\n",
    "details = r.json()  ## 转化成json对数据进行查看\n",
    "details\n"
   ]
  },
  {
   "cell_type": "code",
   "execution_count": 507,
   "metadata": {},
   "outputs": [
    {
     "data": {
      "text/html": [
       "<div>\n",
       "<style scoped>\n",
       "    .dataframe tbody tr th:only-of-type {\n",
       "        vertical-align: middle;\n",
       "    }\n",
       "\n",
       "    .dataframe tbody tr th {\n",
       "        vertical-align: top;\n",
       "    }\n",
       "\n",
       "    .dataframe thead th {\n",
       "        text-align: right;\n",
       "    }\n",
       "</style>\n",
       "<table border=\"1\" class=\"dataframe\">\n",
       "  <thead>\n",
       "    <tr style=\"text-align: right;\">\n",
       "      <th></th>\n",
       "      <th>faceAttributes</th>\n",
       "      <th>faceId</th>\n",
       "      <th>faceRectangle</th>\n",
       "    </tr>\n",
       "  </thead>\n",
       "  <tbody>\n",
       "    <tr>\n",
       "      <th>0</th>\n",
       "      <td>{'gender': 'male', 'age': 18.0, 'glasses': 'No...</td>\n",
       "      <td>1ef5ec67-1782-4efb-9ccb-53dcd60ddb8d</td>\n",
       "      <td>{'top': 118, 'left': 144, 'width': 88, 'height...</td>\n",
       "    </tr>\n",
       "    <tr>\n",
       "      <th>1</th>\n",
       "      <td>{'gender': 'female', 'age': 20.0, 'glasses': '...</td>\n",
       "      <td>ca48d3e0-149b-42d4-86b2-0b5665823e41</td>\n",
       "      <td>{'top': 117, 'left': 376, 'width': 64, 'height...</td>\n",
       "    </tr>\n",
       "    <tr>\n",
       "      <th>2</th>\n",
       "      <td>{'gender': 'male', 'age': 23.0, 'glasses': 'Re...</td>\n",
       "      <td>df04a73e-52b7-4ff2-a9e4-32412aa5f15e</td>\n",
       "      <td>{'top': 41, 'left': 676, 'width': 52, 'height'...</td>\n",
       "    </tr>\n",
       "    <tr>\n",
       "      <th>3</th>\n",
       "      <td>{'gender': 'female', 'age': 21.0, 'glasses': '...</td>\n",
       "      <td>224aa441-93cc-4316-8ed4-288d12a6d6c2</td>\n",
       "      <td>{'top': 69, 'left': 445, 'width': 52, 'height'...</td>\n",
       "    </tr>\n",
       "    <tr>\n",
       "      <th>4</th>\n",
       "      <td>{'gender': 'female', 'age': 17.0, 'glasses': '...</td>\n",
       "      <td>43c79d73-b7a7-48fc-9520-6102c8137949</td>\n",
       "      <td>{'top': 95, 'left': 238, 'width': 51, 'height'...</td>\n",
       "    </tr>\n",
       "    <tr>\n",
       "      <th>5</th>\n",
       "      <td>{'gender': 'female', 'age': 19.0, 'glasses': '...</td>\n",
       "      <td>d93baa98-8e6a-4ab6-bf55-d994ae5484be</td>\n",
       "      <td>{'top': 94, 'left': 540, 'width': 48, 'height'...</td>\n",
       "    </tr>\n",
       "  </tbody>\n",
       "</table>\n",
       "</div>"
      ],
      "text/plain": [
       "                                      faceAttributes  \\\n",
       "0  {'gender': 'male', 'age': 18.0, 'glasses': 'No...   \n",
       "1  {'gender': 'female', 'age': 20.0, 'glasses': '...   \n",
       "2  {'gender': 'male', 'age': 23.0, 'glasses': 'Re...   \n",
       "3  {'gender': 'female', 'age': 21.0, 'glasses': '...   \n",
       "4  {'gender': 'female', 'age': 17.0, 'glasses': '...   \n",
       "5  {'gender': 'female', 'age': 19.0, 'glasses': '...   \n",
       "\n",
       "                                 faceId  \\\n",
       "0  1ef5ec67-1782-4efb-9ccb-53dcd60ddb8d   \n",
       "1  ca48d3e0-149b-42d4-86b2-0b5665823e41   \n",
       "2  df04a73e-52b7-4ff2-a9e4-32412aa5f15e   \n",
       "3  224aa441-93cc-4316-8ed4-288d12a6d6c2   \n",
       "4  43c79d73-b7a7-48fc-9520-6102c8137949   \n",
       "5  d93baa98-8e6a-4ab6-bf55-d994ae5484be   \n",
       "\n",
       "                                       faceRectangle  \n",
       "0  {'top': 118, 'left': 144, 'width': 88, 'height...  \n",
       "1  {'top': 117, 'left': 376, 'width': 64, 'height...  \n",
       "2  {'top': 41, 'left': 676, 'width': 52, 'height'...  \n",
       "3  {'top': 69, 'left': 445, 'width': 52, 'height'...  \n",
       "4  {'top': 95, 'left': 238, 'width': 51, 'height'...  \n",
       "5  {'top': 94, 'left': 540, 'width': 48, 'height'...  "
      ]
     },
     "execution_count": 507,
     "metadata": {},
     "output_type": "execute_result"
    }
   ],
   "source": [
    "df = pd.DataFrame(details)  ## 看看数据框\n",
    "df"
   ]
  },
  {
   "cell_type": "code",
   "execution_count": 508,
   "metadata": {},
   "outputs": [
    {
     "data": {
      "text/plain": [
       "0    {'top': 118, 'left': 144, 'width': 88, 'height...\n",
       "1    {'top': 117, 'left': 376, 'width': 64, 'height...\n",
       "2    {'top': 41, 'left': 676, 'width': 52, 'height'...\n",
       "3    {'top': 69, 'left': 445, 'width': 52, 'height'...\n",
       "4    {'top': 95, 'left': 238, 'width': 51, 'height'...\n",
       "5    {'top': 94, 'left': 540, 'width': 48, 'height'...\n",
       "Name: faceRectangle, dtype: object"
      ]
     },
     "execution_count": 508,
     "metadata": {},
     "output_type": "execute_result"
    }
   ],
   "source": [
    "df[\"faceRectangle\"] ## 利用pandas的df[\"\"]可以获取到变量所有观察"
   ]
  },
  {
   "cell_type": "code",
   "execution_count": 509,
   "metadata": {},
   "outputs": [
    {
     "data": {
      "text/plain": [
       "{0: {'top': 118, 'left': 144, 'width': 88, 'height': 88},\n",
       " 1: {'top': 117, 'left': 376, 'width': 64, 'height': 64},\n",
       " 2: {'top': 41, 'left': 676, 'width': 52, 'height': 52},\n",
       " 3: {'top': 69, 'left': 445, 'width': 52, 'height': 52},\n",
       " 4: {'top': 95, 'left': 238, 'width': 51, 'height': 51},\n",
       " 5: {'top': 94, 'left': 540, 'width': 48, 'height': 48}}"
      ]
     },
     "execution_count": 509,
     "metadata": {},
     "output_type": "execute_result"
    }
   ],
   "source": [
    "facerectangle = df[\"faceRectangle\"].to_dict() ## 转化为字典为数据处理做准备\n",
    "facerectangle"
   ]
  },
  {
   "cell_type": "code",
   "execution_count": 510,
   "metadata": {},
   "outputs": [
    {
     "data": {
      "text/html": [
       "<div>\n",
       "<style scoped>\n",
       "    .dataframe tbody tr th:only-of-type {\n",
       "        vertical-align: middle;\n",
       "    }\n",
       "\n",
       "    .dataframe tbody tr th {\n",
       "        vertical-align: top;\n",
       "    }\n",
       "\n",
       "    .dataframe thead th {\n",
       "        text-align: right;\n",
       "    }\n",
       "</style>\n",
       "<table border=\"1\" class=\"dataframe\">\n",
       "  <thead>\n",
       "    <tr style=\"text-align: right;\">\n",
       "      <th></th>\n",
       "      <th>0</th>\n",
       "      <th>1</th>\n",
       "      <th>2</th>\n",
       "      <th>3</th>\n",
       "      <th>4</th>\n",
       "      <th>5</th>\n",
       "    </tr>\n",
       "  </thead>\n",
       "  <tbody>\n",
       "    <tr>\n",
       "      <th>height</th>\n",
       "      <td>88</td>\n",
       "      <td>64</td>\n",
       "      <td>52</td>\n",
       "      <td>52</td>\n",
       "      <td>51</td>\n",
       "      <td>48</td>\n",
       "    </tr>\n",
       "    <tr>\n",
       "      <th>left</th>\n",
       "      <td>144</td>\n",
       "      <td>376</td>\n",
       "      <td>676</td>\n",
       "      <td>445</td>\n",
       "      <td>238</td>\n",
       "      <td>540</td>\n",
       "    </tr>\n",
       "    <tr>\n",
       "      <th>top</th>\n",
       "      <td>118</td>\n",
       "      <td>117</td>\n",
       "      <td>41</td>\n",
       "      <td>69</td>\n",
       "      <td>95</td>\n",
       "      <td>94</td>\n",
       "    </tr>\n",
       "    <tr>\n",
       "      <th>width</th>\n",
       "      <td>88</td>\n",
       "      <td>64</td>\n",
       "      <td>52</td>\n",
       "      <td>52</td>\n",
       "      <td>51</td>\n",
       "      <td>48</td>\n",
       "    </tr>\n",
       "  </tbody>\n",
       "</table>\n",
       "</div>"
      ],
      "text/plain": [
       "          0    1    2    3    4    5\n",
       "height   88   64   52   52   51   48\n",
       "left    144  376  676  445  238  540\n",
       "top     118  117   41   69   95   94\n",
       "width    88   64   52   52   51   48"
      ]
     },
     "execution_count": 510,
     "metadata": {},
     "output_type": "execute_result"
    }
   ],
   "source": [
    "Facerectangle = pd.DataFrame(facerectangle)\n",
    "Facerectangle  ## 转化为数据框"
   ]
  },
  {
   "cell_type": "code",
   "execution_count": 511,
   "metadata": {},
   "outputs": [
    {
     "data": {
      "text/html": [
       "<div>\n",
       "<style scoped>\n",
       "    .dataframe tbody tr th:only-of-type {\n",
       "        vertical-align: middle;\n",
       "    }\n",
       "\n",
       "    .dataframe tbody tr th {\n",
       "        vertical-align: top;\n",
       "    }\n",
       "\n",
       "    .dataframe thead th {\n",
       "        text-align: right;\n",
       "    }\n",
       "</style>\n",
       "<table border=\"1\" class=\"dataframe\">\n",
       "  <thead>\n",
       "    <tr style=\"text-align: right;\">\n",
       "      <th></th>\n",
       "      <th>height</th>\n",
       "      <th>left</th>\n",
       "      <th>top</th>\n",
       "      <th>width</th>\n",
       "    </tr>\n",
       "  </thead>\n",
       "  <tbody>\n",
       "    <tr>\n",
       "      <th>0</th>\n",
       "      <td>88</td>\n",
       "      <td>144</td>\n",
       "      <td>118</td>\n",
       "      <td>88</td>\n",
       "    </tr>\n",
       "    <tr>\n",
       "      <th>1</th>\n",
       "      <td>64</td>\n",
       "      <td>376</td>\n",
       "      <td>117</td>\n",
       "      <td>64</td>\n",
       "    </tr>\n",
       "    <tr>\n",
       "      <th>2</th>\n",
       "      <td>52</td>\n",
       "      <td>676</td>\n",
       "      <td>41</td>\n",
       "      <td>52</td>\n",
       "    </tr>\n",
       "    <tr>\n",
       "      <th>3</th>\n",
       "      <td>52</td>\n",
       "      <td>445</td>\n",
       "      <td>69</td>\n",
       "      <td>52</td>\n",
       "    </tr>\n",
       "    <tr>\n",
       "      <th>4</th>\n",
       "      <td>51</td>\n",
       "      <td>238</td>\n",
       "      <td>95</td>\n",
       "      <td>51</td>\n",
       "    </tr>\n",
       "    <tr>\n",
       "      <th>5</th>\n",
       "      <td>48</td>\n",
       "      <td>540</td>\n",
       "      <td>94</td>\n",
       "      <td>48</td>\n",
       "    </tr>\n",
       "  </tbody>\n",
       "</table>\n",
       "</div>"
      ],
      "text/plain": [
       "   height  left  top  width\n",
       "0      88   144  118     88\n",
       "1      64   376  117     64\n",
       "2      52   676   41     52\n",
       "3      52   445   69     52\n",
       "4      51   238   95     51\n",
       "5      48   540   94     48"
      ]
     },
     "execution_count": 511,
     "metadata": {},
     "output_type": "execute_result"
    }
   ],
   "source": [
    "Facerectangle = pd.DataFrame(facerectangle).T  ## 变量和序列换换位置用    .T\n",
    "Facerectangle"
   ]
  },
  {
   "cell_type": "code",
   "execution_count": 512,
   "metadata": {},
   "outputs": [
    {
     "data": {
      "text/html": [
       "<div>\n",
       "<style scoped>\n",
       "    .dataframe tbody tr th:only-of-type {\n",
       "        vertical-align: middle;\n",
       "    }\n",
       "\n",
       "    .dataframe tbody tr th {\n",
       "        vertical-align: top;\n",
       "    }\n",
       "\n",
       "    .dataframe thead th {\n",
       "        text-align: right;\n",
       "    }\n",
       "</style>\n",
       "<table border=\"1\" class=\"dataframe\">\n",
       "  <thead>\n",
       "    <tr style=\"text-align: right;\">\n",
       "      <th></th>\n",
       "      <th>face_rectangle_height</th>\n",
       "      <th>face_rectangle_left</th>\n",
       "      <th>face_rectangle_top</th>\n",
       "      <th>face_rectangle_width</th>\n",
       "    </tr>\n",
       "  </thead>\n",
       "  <tbody>\n",
       "    <tr>\n",
       "      <th>0</th>\n",
       "      <td>88</td>\n",
       "      <td>144</td>\n",
       "      <td>118</td>\n",
       "      <td>88</td>\n",
       "    </tr>\n",
       "    <tr>\n",
       "      <th>1</th>\n",
       "      <td>64</td>\n",
       "      <td>376</td>\n",
       "      <td>117</td>\n",
       "      <td>64</td>\n",
       "    </tr>\n",
       "    <tr>\n",
       "      <th>2</th>\n",
       "      <td>52</td>\n",
       "      <td>676</td>\n",
       "      <td>41</td>\n",
       "      <td>52</td>\n",
       "    </tr>\n",
       "    <tr>\n",
       "      <th>3</th>\n",
       "      <td>52</td>\n",
       "      <td>445</td>\n",
       "      <td>69</td>\n",
       "      <td>52</td>\n",
       "    </tr>\n",
       "    <tr>\n",
       "      <th>4</th>\n",
       "      <td>51</td>\n",
       "      <td>238</td>\n",
       "      <td>95</td>\n",
       "      <td>51</td>\n",
       "    </tr>\n",
       "    <tr>\n",
       "      <th>5</th>\n",
       "      <td>48</td>\n",
       "      <td>540</td>\n",
       "      <td>94</td>\n",
       "      <td>48</td>\n",
       "    </tr>\n",
       "  </tbody>\n",
       "</table>\n",
       "</div>"
      ],
      "text/plain": [
       "   face_rectangle_height  face_rectangle_left  face_rectangle_top  \\\n",
       "0                     88                  144                 118   \n",
       "1                     64                  376                 117   \n",
       "2                     52                  676                  41   \n",
       "3                     52                  445                  69   \n",
       "4                     51                  238                  95   \n",
       "5                     48                  540                  94   \n",
       "\n",
       "   face_rectangle_width  \n",
       "0                    88  \n",
       "1                    64  \n",
       "2                    52  \n",
       "3                    52  \n",
       "4                    51  \n",
       "5                    48  "
      ]
     },
     "execution_count": 512,
     "metadata": {},
     "output_type": "execute_result"
    }
   ],
   "source": [
    "df_Rect = pd.DataFrame(Facerectangle)\n",
    "## 栏位加名称\n",
    "df_Rect.columns = [\"face_rectangle_\"+x for x in df_Rect.columns]\n",
    "        ## 推导式公式：  [“输出结果” for “单个变量” in “总体”]\n",
    "df_Rect"
   ]
  },
  {
   "cell_type": "code",
   "execution_count": 513,
   "metadata": {},
   "outputs": [
    {
     "data": {
      "text/html": [
       "<div>\n",
       "<style scoped>\n",
       "    .dataframe tbody tr th:only-of-type {\n",
       "        vertical-align: middle;\n",
       "    }\n",
       "\n",
       "    .dataframe tbody tr th {\n",
       "        vertical-align: top;\n",
       "    }\n",
       "\n",
       "    .dataframe thead th {\n",
       "        text-align: right;\n",
       "    }\n",
       "</style>\n",
       "<table border=\"1\" class=\"dataframe\">\n",
       "  <thead>\n",
       "    <tr style=\"text-align: right;\">\n",
       "      <th></th>\n",
       "      <th>faceAttributes</th>\n",
       "    </tr>\n",
       "  </thead>\n",
       "  <tbody>\n",
       "    <tr>\n",
       "      <th>0</th>\n",
       "      <td>{'gender': 'male', 'age': 18.0, 'glasses': 'No...</td>\n",
       "    </tr>\n",
       "    <tr>\n",
       "      <th>1</th>\n",
       "      <td>{'gender': 'female', 'age': 20.0, 'glasses': '...</td>\n",
       "    </tr>\n",
       "    <tr>\n",
       "      <th>2</th>\n",
       "      <td>{'gender': 'male', 'age': 23.0, 'glasses': 'Re...</td>\n",
       "    </tr>\n",
       "    <tr>\n",
       "      <th>3</th>\n",
       "      <td>{'gender': 'female', 'age': 21.0, 'glasses': '...</td>\n",
       "    </tr>\n",
       "    <tr>\n",
       "      <th>4</th>\n",
       "      <td>{'gender': 'female', 'age': 17.0, 'glasses': '...</td>\n",
       "    </tr>\n",
       "    <tr>\n",
       "      <th>5</th>\n",
       "      <td>{'gender': 'female', 'age': 19.0, 'glasses': '...</td>\n",
       "    </tr>\n",
       "  </tbody>\n",
       "</table>\n",
       "</div>"
      ],
      "text/plain": [
       "                                      faceAttributes\n",
       "0  {'gender': 'male', 'age': 18.0, 'glasses': 'No...\n",
       "1  {'gender': 'female', 'age': 20.0, 'glasses': '...\n",
       "2  {'gender': 'male', 'age': 23.0, 'glasses': 'Re...\n",
       "3  {'gender': 'female', 'age': 21.0, 'glasses': '...\n",
       "4  {'gender': 'female', 'age': 17.0, 'glasses': '...\n",
       "5  {'gender': 'female', 'age': 19.0, 'glasses': '..."
      ]
     },
     "execution_count": 513,
     "metadata": {},
     "output_type": "execute_result"
    }
   ],
   "source": [
    "df[[\"faceAttributes\"]]  ##df[[]]  输出数据框"
   ]
  },
  {
   "cell_type": "code",
   "execution_count": 514,
   "metadata": {},
   "outputs": [],
   "source": [
    "# df[[\"faceAttributes\"]].fillna(\"\")"
   ]
  },
  {
   "cell_type": "code",
   "execution_count": 515,
   "metadata": {},
   "outputs": [
    {
     "data": {
      "text/plain": [
       "dict"
      ]
     },
     "execution_count": 515,
     "metadata": {},
     "output_type": "execute_result"
    }
   ],
   "source": [
    "type(df[\"faceAttributes\"].loc[2])  ## 查看序列为2的数据的数据类型，方便后期处理"
   ]
  },
  {
   "cell_type": "code",
   "execution_count": 529,
   "metadata": {},
   "outputs": [
    {
     "data": {
      "text/plain": [
       "[{'anger': 0.0,\n",
       "  'contempt': 0.003,\n",
       "  'disgust': 0.0,\n",
       "  'fear': 0.0,\n",
       "  'happiness': 0.813,\n",
       "  'neutral': 0.184,\n",
       "  'sadness': 0.0,\n",
       "  'surprise': 0.0},\n",
       " {'anger': 0.0,\n",
       "  'contempt': 0.001,\n",
       "  'disgust': 0.0,\n",
       "  'fear': 0.0,\n",
       "  'happiness': 0.456,\n",
       "  'neutral': 0.542,\n",
       "  'sadness': 0.001,\n",
       "  'surprise': 0.0},\n",
       " {'anger': 0.0,\n",
       "  'contempt': 0.0,\n",
       "  'disgust': 0.0,\n",
       "  'fear': 0.0,\n",
       "  'happiness': 1.0,\n",
       "  'neutral': 0.0,\n",
       "  'sadness': 0.0,\n",
       "  'surprise': 0.0},\n",
       " {'anger': 0.0,\n",
       "  'contempt': 0.0,\n",
       "  'disgust': 0.0,\n",
       "  'fear': 0.0,\n",
       "  'happiness': 1.0,\n",
       "  'neutral': 0.0,\n",
       "  'sadness': 0.0,\n",
       "  'surprise': 0.0},\n",
       " {'anger': 0.0,\n",
       "  'contempt': 0.0,\n",
       "  'disgust': 0.0,\n",
       "  'fear': 0.0,\n",
       "  'happiness': 0.981,\n",
       "  'neutral': 0.019,\n",
       "  'sadness': 0.0,\n",
       "  'surprise': 0.0},\n",
       " {'anger': 0.0,\n",
       "  'contempt': 0.0,\n",
       "  'disgust': 0.0,\n",
       "  'fear': 0.0,\n",
       "  'happiness': 1.0,\n",
       "  'neutral': 0.0,\n",
       "  'sadness': 0.0,\n",
       "  'surprise': 0.0}]"
      ]
     },
     "execution_count": 529,
     "metadata": {},
     "output_type": "execute_result"
    }
   ],
   "source": [
    "attribution = [df[\"faceAttributes\"].loc[i][\"emotion\"] \\\n",
    " if type(df[\"faceAttributes\"].loc[i])  is dict \\\n",
    " else missing_value for i in df[\"faceAttributes\"].index ]\n",
    "attribution\n"
   ]
  },
  {
   "cell_type": "code",
   "execution_count": 530,
   "metadata": {},
   "outputs": [
    {
     "data": {
      "text/html": [
       "<div>\n",
       "<style scoped>\n",
       "    .dataframe tbody tr th:only-of-type {\n",
       "        vertical-align: middle;\n",
       "    }\n",
       "\n",
       "    .dataframe tbody tr th {\n",
       "        vertical-align: top;\n",
       "    }\n",
       "\n",
       "    .dataframe thead th {\n",
       "        text-align: right;\n",
       "    }\n",
       "</style>\n",
       "<table border=\"1\" class=\"dataframe\">\n",
       "  <thead>\n",
       "    <tr style=\"text-align: right;\">\n",
       "      <th></th>\n",
       "      <th>faceAttributes_anger</th>\n",
       "      <th>faceAttributes_contempt</th>\n",
       "      <th>faceAttributes_disgust</th>\n",
       "      <th>faceAttributes_fear</th>\n",
       "      <th>faceAttributes_happiness</th>\n",
       "      <th>faceAttributes_neutral</th>\n",
       "      <th>faceAttributes_sadness</th>\n",
       "      <th>faceAttributes_surprise</th>\n",
       "    </tr>\n",
       "  </thead>\n",
       "  <tbody>\n",
       "    <tr>\n",
       "      <th>0</th>\n",
       "      <td>0.0</td>\n",
       "      <td>0.003</td>\n",
       "      <td>0.0</td>\n",
       "      <td>0.0</td>\n",
       "      <td>0.813</td>\n",
       "      <td>0.184</td>\n",
       "      <td>0.000</td>\n",
       "      <td>0.0</td>\n",
       "    </tr>\n",
       "    <tr>\n",
       "      <th>1</th>\n",
       "      <td>0.0</td>\n",
       "      <td>0.001</td>\n",
       "      <td>0.0</td>\n",
       "      <td>0.0</td>\n",
       "      <td>0.456</td>\n",
       "      <td>0.542</td>\n",
       "      <td>0.001</td>\n",
       "      <td>0.0</td>\n",
       "    </tr>\n",
       "    <tr>\n",
       "      <th>2</th>\n",
       "      <td>0.0</td>\n",
       "      <td>0.000</td>\n",
       "      <td>0.0</td>\n",
       "      <td>0.0</td>\n",
       "      <td>1.000</td>\n",
       "      <td>0.000</td>\n",
       "      <td>0.000</td>\n",
       "      <td>0.0</td>\n",
       "    </tr>\n",
       "    <tr>\n",
       "      <th>3</th>\n",
       "      <td>0.0</td>\n",
       "      <td>0.000</td>\n",
       "      <td>0.0</td>\n",
       "      <td>0.0</td>\n",
       "      <td>1.000</td>\n",
       "      <td>0.000</td>\n",
       "      <td>0.000</td>\n",
       "      <td>0.0</td>\n",
       "    </tr>\n",
       "    <tr>\n",
       "      <th>4</th>\n",
       "      <td>0.0</td>\n",
       "      <td>0.000</td>\n",
       "      <td>0.0</td>\n",
       "      <td>0.0</td>\n",
       "      <td>0.981</td>\n",
       "      <td>0.019</td>\n",
       "      <td>0.000</td>\n",
       "      <td>0.0</td>\n",
       "    </tr>\n",
       "    <tr>\n",
       "      <th>5</th>\n",
       "      <td>0.0</td>\n",
       "      <td>0.000</td>\n",
       "      <td>0.0</td>\n",
       "      <td>0.0</td>\n",
       "      <td>1.000</td>\n",
       "      <td>0.000</td>\n",
       "      <td>0.000</td>\n",
       "      <td>0.0</td>\n",
       "    </tr>\n",
       "  </tbody>\n",
       "</table>\n",
       "</div>"
      ],
      "text/plain": [
       "   faceAttributes_anger  faceAttributes_contempt  faceAttributes_disgust  \\\n",
       "0                   0.0                    0.003                     0.0   \n",
       "1                   0.0                    0.001                     0.0   \n",
       "2                   0.0                    0.000                     0.0   \n",
       "3                   0.0                    0.000                     0.0   \n",
       "4                   0.0                    0.000                     0.0   \n",
       "5                   0.0                    0.000                     0.0   \n",
       "\n",
       "   faceAttributes_fear  faceAttributes_happiness  faceAttributes_neutral  \\\n",
       "0                  0.0                     0.813                   0.184   \n",
       "1                  0.0                     0.456                   0.542   \n",
       "2                  0.0                     1.000                   0.000   \n",
       "3                  0.0                     1.000                   0.000   \n",
       "4                  0.0                     0.981                   0.019   \n",
       "5                  0.0                     1.000                   0.000   \n",
       "\n",
       "   faceAttributes_sadness  faceAttributes_surprise  \n",
       "0                   0.000                      0.0  \n",
       "1                   0.001                      0.0  \n",
       "2                   0.000                      0.0  \n",
       "3                   0.000                      0.0  \n",
       "4                   0.000                      0.0  \n",
       "5                   0.000                      0.0  "
      ]
     },
     "execution_count": 530,
     "metadata": {},
     "output_type": "execute_result"
    }
   ],
   "source": [
    "# for item in details:\n",
    "#     df = pd.DataFrame(item['faceAttributes'])\n",
    "\n",
    "#     emotion = df.iloc[:,[3]]\n",
    "#     display(emotion)\n",
    "df_attr_emotion = pd.DataFrame(attribution)\n",
    "# 更换变量名称 face_rectangle \n",
    "df_attr_emotion.columns = \\\n",
    "[ \"faceAttributes_\"+x for x in df_attr_emotion.columns]\n",
    "df_attr_emotion"
   ]
  },
  {
   "cell_type": "markdown",
   "metadata": {},
   "source": [
    "* 由于我Azure免费已过期，无法给大家展示Azure，我将用face++用同样的6个步骤给大家展示\n",
    "#  face++ Detect API(面部检测) 示范6个步骤\n",
    "\n"
   ]
  },
  {
   "cell_type": "code",
   "execution_count": 531,
   "metadata": {},
   "outputs": [],
   "source": [
    "# 1、先导入为们需要的模块\n",
    "import requests\n",
    "\n",
    "\n",
    "api_secret = \"Vr0PtRCw-ZFwYXTKVfi6aDNaSqlfunK3\"\n",
    "# 2、输入我们API_Key\n",
    "api_key = 'jRpCaZ34kqNYJ8Zppdc-yGGum_YkETov'  # Replace with a valid Subscription Key here.\n",
    "\n",
    "\n",
    "# 3、目标url\n",
    "# 这里也可以使用本地图片 例如：filepath =\"image/tupian.jpg\"\n",
    "BASE_URL = 'https://api-cn.faceplusplus.com/facepp/v3/detect' \n",
    "img_url = 'http://newmedia.nfu.edu.cn/wcy/wp-content/uploads/2018/04/post_20180424__NFU_DoraHacks_imoji%E5%9B%A2%E9%98%9F.jpg'\n",
    "\n",
    "# 4、沿用API文档的示范代码,准备我们的headers和图片(数据)\n",
    "\n",
    "headers = {\n",
    "    'Content-Type': 'application/json',\n",
    "}\n",
    "\n",
    "# 5、准备symbol ? 后面的数据\n",
    "\n",
    "payload = {\n",
    "    \"image_url\":img_url,\n",
    "    'api_key': api_key,\n",
    "    'api_secret': api_secret,\n",
    "    'return_attributes':'gender,age,smiling,emotion', \n",
    "}\n",
    "\n"
   ]
  },
  {
   "cell_type": "code",
   "execution_count": 532,
   "metadata": {},
   "outputs": [],
   "source": [
    "#  6、requests发送我们请求\n",
    "r = requests.post(BASE_URL, params=payload, headers=headers)\n",
    "\n"
   ]
  },
  {
   "cell_type": "code",
   "execution_count": 533,
   "metadata": {},
   "outputs": [
    {
     "data": {
      "text/plain": [
       "200"
      ]
     },
     "execution_count": 533,
     "metadata": {},
     "output_type": "execute_result"
    }
   ],
   "source": [
    "r.status_code"
   ]
  },
  {
   "cell_type": "code",
   "execution_count": 534,
   "metadata": {
    "scrolled": true
   },
   "outputs": [
    {
     "data": {
      "text/plain": [
       "b'{\"request_id\":\"1585733850,5ef9a2e9-1aaa-400a-94e2-853ab0ce7b10\",\"time_used\":266,\"faces\":[{\"face_token\":\"19014a2f703a25893d74d44345670526\",\"face_rectangle\":{\"top\":123,\"left\":138,\"width\":90,\"height\":90},\"attributes\":{\"gender\":{\"value\":\"Male\"},\"age\":{\"value\":23},\"smile\":{\"value\":99.995,\"threshold\":50.000},\"emotion\":{\"anger\":0.059,\"disgust\":0.059,\"fear\":0.059,\"happiness\":42.294,\"neutral\":52.431,\"sadness\":4.920,\"surprise\":0.179}}},{\"face_token\":\"0973e6ddebe8b90c2e273a7a3cb929f7\",\"face_rectangle\":{\"top\":122,\"left\":373,\"width\":65,\"height\":65},\"attributes\":{\"gender\":{\"value\":\"Female\"},\"age\":{\"value\":37},\"smile\":{\"value\":98.866,\"threshold\":50.000},\"emotion\":{\"anger\":0.169,\"disgust\":7.280,\"fear\":0.138,\"happiness\":17.689,\"neutral\":8.067,\"sadness\":66.519,\"surprise\":0.138}}},{\"face_token\":\"5b6bb7bc4129e7bd1cd9b8abbc5fde5b\",\"face_rectangle\":{\"top\":46,\"left\":675,\"width\":54,\"height\":54},\"attributes\":{\"gender\":{\"value\":\"Male\"},\"age\":{\"value\":23},\"smile\":{\"value\":100.000,\"threshold\":50.000},\"emotion\":{\"anger\":0.000,\"disgust\":0.000,\"fear\":0.000,\"happiness\":99.996,\"neutral\":0.001,\"sadness\":0.002,\"surprise\":0.001}}},{\"face_token\":\"9dc6ceaef571fc6f76567187ca588a8a\",\"face_rectangle\":{\"top\":98,\"left\":235,\"width\":53,\"height\":53},\"attributes\":{\"gender\":{\"value\":\"Female\"},\"age\":{\"value\":22},\"smile\":{\"value\":99.997,\"threshold\":50.000},\"emotion\":{\"anger\":0.000,\"disgust\":0.001,\"fear\":0.000,\"happiness\":99.990,\"neutral\":0.009,\"sadness\":0.000,\"surprise\":0.000}}},{\"face_token\":\"5218b8f9e7a796120954d0f7776782a7\",\"face_rectangle\":{\"top\":75,\"left\":444,\"width\":52,\"height\":52},\"attributes\":{\"gender\":{\"value\":\"Female\"},\"age\":{\"value\":28},\"smile\":{\"value\":99.999,\"threshold\":50.000},\"emotion\":{\"anger\":0.001,\"disgust\":0.001,\"fear\":0.027,\"happiness\":99.933,\"neutral\":0.027,\"sadness\":0.010,\"surprise\":0.001}}},{\"face_token\":\"d8a66ecb3142694b520135e787634b5a\",\"face_rectangle\":{\"top\":98,\"left\":537,\"width\":48,\"height\":48}}],\"image_id\":\"TfC1AByqtXhfuQ6DruqVww==\",\"face_num\":6}\\n'"
      ]
     },
     "execution_count": 534,
     "metadata": {},
     "output_type": "execute_result"
    }
   ],
   "source": [
    "r.content"
   ]
  },
  {
   "cell_type": "code",
   "execution_count": 535,
   "metadata": {
    "scrolled": false
   },
   "outputs": [
    {
     "data": {
      "text/plain": [
       "{'request_id': '1585733850,5ef9a2e9-1aaa-400a-94e2-853ab0ce7b10',\n",
       " 'time_used': 266,\n",
       " 'faces': [{'face_token': '19014a2f703a25893d74d44345670526',\n",
       "   'face_rectangle': {'top': 123, 'left': 138, 'width': 90, 'height': 90},\n",
       "   'attributes': {'gender': {'value': 'Male'},\n",
       "    'age': {'value': 23},\n",
       "    'smile': {'value': 99.995, 'threshold': 50.0},\n",
       "    'emotion': {'anger': 0.059,\n",
       "     'disgust': 0.059,\n",
       "     'fear': 0.059,\n",
       "     'happiness': 42.294,\n",
       "     'neutral': 52.431,\n",
       "     'sadness': 4.92,\n",
       "     'surprise': 0.179}}},\n",
       "  {'face_token': '0973e6ddebe8b90c2e273a7a3cb929f7',\n",
       "   'face_rectangle': {'top': 122, 'left': 373, 'width': 65, 'height': 65},\n",
       "   'attributes': {'gender': {'value': 'Female'},\n",
       "    'age': {'value': 37},\n",
       "    'smile': {'value': 98.866, 'threshold': 50.0},\n",
       "    'emotion': {'anger': 0.169,\n",
       "     'disgust': 7.28,\n",
       "     'fear': 0.138,\n",
       "     'happiness': 17.689,\n",
       "     'neutral': 8.067,\n",
       "     'sadness': 66.519,\n",
       "     'surprise': 0.138}}},\n",
       "  {'face_token': '5b6bb7bc4129e7bd1cd9b8abbc5fde5b',\n",
       "   'face_rectangle': {'top': 46, 'left': 675, 'width': 54, 'height': 54},\n",
       "   'attributes': {'gender': {'value': 'Male'},\n",
       "    'age': {'value': 23},\n",
       "    'smile': {'value': 100.0, 'threshold': 50.0},\n",
       "    'emotion': {'anger': 0.0,\n",
       "     'disgust': 0.0,\n",
       "     'fear': 0.0,\n",
       "     'happiness': 99.996,\n",
       "     'neutral': 0.001,\n",
       "     'sadness': 0.002,\n",
       "     'surprise': 0.001}}},\n",
       "  {'face_token': '9dc6ceaef571fc6f76567187ca588a8a',\n",
       "   'face_rectangle': {'top': 98, 'left': 235, 'width': 53, 'height': 53},\n",
       "   'attributes': {'gender': {'value': 'Female'},\n",
       "    'age': {'value': 22},\n",
       "    'smile': {'value': 99.997, 'threshold': 50.0},\n",
       "    'emotion': {'anger': 0.0,\n",
       "     'disgust': 0.001,\n",
       "     'fear': 0.0,\n",
       "     'happiness': 99.99,\n",
       "     'neutral': 0.009,\n",
       "     'sadness': 0.0,\n",
       "     'surprise': 0.0}}},\n",
       "  {'face_token': '5218b8f9e7a796120954d0f7776782a7',\n",
       "   'face_rectangle': {'top': 75, 'left': 444, 'width': 52, 'height': 52},\n",
       "   'attributes': {'gender': {'value': 'Female'},\n",
       "    'age': {'value': 28},\n",
       "    'smile': {'value': 99.999, 'threshold': 50.0},\n",
       "    'emotion': {'anger': 0.001,\n",
       "     'disgust': 0.001,\n",
       "     'fear': 0.027,\n",
       "     'happiness': 99.933,\n",
       "     'neutral': 0.027,\n",
       "     'sadness': 0.01,\n",
       "     'surprise': 0.001}}},\n",
       "  {'face_token': 'd8a66ecb3142694b520135e787634b5a',\n",
       "   'face_rectangle': {'top': 98, 'left': 537, 'width': 48, 'height': 48}}],\n",
       " 'image_id': 'TfC1AByqtXhfuQ6DruqVww==',\n",
       " 'face_num': 6}"
      ]
     },
     "execution_count": 535,
     "metadata": {},
     "output_type": "execute_result"
    }
   ],
   "source": [
    "# requests 巧妙的方法   r = response\n",
    "results = r.json() # \n",
    "results"
   ]
  },
  {
   "cell_type": "markdown",
   "metadata": {},
   "source": [
    "## 要如何简化此数据方便使用?\n",
    "* pandas !!  (1.0以上版本)\n",
    "* json_normalize：\n",
    "    * [json_normalize github](https://github.com/pandas-dev/pandas/blob/v1.0.3/pandas/io/json/_normalize.py#L114-L358)"
   ]
  },
  {
   "cell_type": "markdown",
   "metadata": {},
   "source": [
    "###  face_rectangle (json_normalize方法) pandas黑魔法\n",
    "* 先针对这变量看观察"
   ]
  },
  {
   "cell_type": "code",
   "execution_count": 536,
   "metadata": {},
   "outputs": [],
   "source": [
    "import pandas as pd\n",
    "from pandas.io.json import json_normalize"
   ]
  },
  {
   "cell_type": "code",
   "execution_count": 537,
   "metadata": {},
   "outputs": [
    {
     "data": {
      "text/plain": [
       "[{'face_token': '19014a2f703a25893d74d44345670526',\n",
       "  'face_rectangle': {'top': 123, 'left': 138, 'width': 90, 'height': 90},\n",
       "  'attributes': {'gender': {'value': 'Male'},\n",
       "   'age': {'value': 23},\n",
       "   'smile': {'value': 99.995, 'threshold': 50.0},\n",
       "   'emotion': {'anger': 0.059,\n",
       "    'disgust': 0.059,\n",
       "    'fear': 0.059,\n",
       "    'happiness': 42.294,\n",
       "    'neutral': 52.431,\n",
       "    'sadness': 4.92,\n",
       "    'surprise': 0.179}}},\n",
       " {'face_token': '0973e6ddebe8b90c2e273a7a3cb929f7',\n",
       "  'face_rectangle': {'top': 122, 'left': 373, 'width': 65, 'height': 65},\n",
       "  'attributes': {'gender': {'value': 'Female'},\n",
       "   'age': {'value': 37},\n",
       "   'smile': {'value': 98.866, 'threshold': 50.0},\n",
       "   'emotion': {'anger': 0.169,\n",
       "    'disgust': 7.28,\n",
       "    'fear': 0.138,\n",
       "    'happiness': 17.689,\n",
       "    'neutral': 8.067,\n",
       "    'sadness': 66.519,\n",
       "    'surprise': 0.138}}},\n",
       " {'face_token': '5b6bb7bc4129e7bd1cd9b8abbc5fde5b',\n",
       "  'face_rectangle': {'top': 46, 'left': 675, 'width': 54, 'height': 54},\n",
       "  'attributes': {'gender': {'value': 'Male'},\n",
       "   'age': {'value': 23},\n",
       "   'smile': {'value': 100.0, 'threshold': 50.0},\n",
       "   'emotion': {'anger': 0.0,\n",
       "    'disgust': 0.0,\n",
       "    'fear': 0.0,\n",
       "    'happiness': 99.996,\n",
       "    'neutral': 0.001,\n",
       "    'sadness': 0.002,\n",
       "    'surprise': 0.001}}},\n",
       " {'face_token': '9dc6ceaef571fc6f76567187ca588a8a',\n",
       "  'face_rectangle': {'top': 98, 'left': 235, 'width': 53, 'height': 53},\n",
       "  'attributes': {'gender': {'value': 'Female'},\n",
       "   'age': {'value': 22},\n",
       "   'smile': {'value': 99.997, 'threshold': 50.0},\n",
       "   'emotion': {'anger': 0.0,\n",
       "    'disgust': 0.001,\n",
       "    'fear': 0.0,\n",
       "    'happiness': 99.99,\n",
       "    'neutral': 0.009,\n",
       "    'sadness': 0.0,\n",
       "    'surprise': 0.0}}},\n",
       " {'face_token': '5218b8f9e7a796120954d0f7776782a7',\n",
       "  'face_rectangle': {'top': 75, 'left': 444, 'width': 52, 'height': 52},\n",
       "  'attributes': {'gender': {'value': 'Female'},\n",
       "   'age': {'value': 28},\n",
       "   'smile': {'value': 99.999, 'threshold': 50.0},\n",
       "   'emotion': {'anger': 0.001,\n",
       "    'disgust': 0.001,\n",
       "    'fear': 0.027,\n",
       "    'happiness': 99.933,\n",
       "    'neutral': 0.027,\n",
       "    'sadness': 0.01,\n",
       "    'surprise': 0.001}}},\n",
       " {'face_token': 'd8a66ecb3142694b520135e787634b5a',\n",
       "  'face_rectangle': {'top': 98, 'left': 537, 'width': 48, 'height': 48}}]"
      ]
     },
     "execution_count": 537,
     "metadata": {},
     "output_type": "execute_result"
    }
   ],
   "source": [
    "results['faces']"
   ]
  },
  {
   "cell_type": "code",
   "execution_count": 538,
   "metadata": {
    "scrolled": false
   },
   "outputs": [
    {
     "data": {
      "text/html": [
       "<div>\n",
       "<style scoped>\n",
       "    .dataframe tbody tr th:only-of-type {\n",
       "        vertical-align: middle;\n",
       "    }\n",
       "\n",
       "    .dataframe tbody tr th {\n",
       "        vertical-align: top;\n",
       "    }\n",
       "\n",
       "    .dataframe thead th {\n",
       "        text-align: right;\n",
       "    }\n",
       "</style>\n",
       "<table border=\"1\" class=\"dataframe\">\n",
       "  <thead>\n",
       "    <tr style=\"text-align: right;\">\n",
       "      <th></th>\n",
       "      <th>attributes</th>\n",
       "      <th>face_rectangle</th>\n",
       "      <th>face_token</th>\n",
       "    </tr>\n",
       "  </thead>\n",
       "  <tbody>\n",
       "    <tr>\n",
       "      <th>0</th>\n",
       "      <td>{'gender': {'value': 'Male'}, 'age': {'value':...</td>\n",
       "      <td>{'top': 123, 'left': 138, 'width': 90, 'height...</td>\n",
       "      <td>19014a2f703a25893d74d44345670526</td>\n",
       "    </tr>\n",
       "    <tr>\n",
       "      <th>1</th>\n",
       "      <td>{'gender': {'value': 'Female'}, 'age': {'value...</td>\n",
       "      <td>{'top': 122, 'left': 373, 'width': 65, 'height...</td>\n",
       "      <td>0973e6ddebe8b90c2e273a7a3cb929f7</td>\n",
       "    </tr>\n",
       "    <tr>\n",
       "      <th>2</th>\n",
       "      <td>{'gender': {'value': 'Male'}, 'age': {'value':...</td>\n",
       "      <td>{'top': 46, 'left': 675, 'width': 54, 'height'...</td>\n",
       "      <td>5b6bb7bc4129e7bd1cd9b8abbc5fde5b</td>\n",
       "    </tr>\n",
       "    <tr>\n",
       "      <th>3</th>\n",
       "      <td>{'gender': {'value': 'Female'}, 'age': {'value...</td>\n",
       "      <td>{'top': 98, 'left': 235, 'width': 53, 'height'...</td>\n",
       "      <td>9dc6ceaef571fc6f76567187ca588a8a</td>\n",
       "    </tr>\n",
       "    <tr>\n",
       "      <th>4</th>\n",
       "      <td>{'gender': {'value': 'Female'}, 'age': {'value...</td>\n",
       "      <td>{'top': 75, 'left': 444, 'width': 52, 'height'...</td>\n",
       "      <td>5218b8f9e7a796120954d0f7776782a7</td>\n",
       "    </tr>\n",
       "    <tr>\n",
       "      <th>5</th>\n",
       "      <td>NaN</td>\n",
       "      <td>{'top': 98, 'left': 537, 'width': 48, 'height'...</td>\n",
       "      <td>d8a66ecb3142694b520135e787634b5a</td>\n",
       "    </tr>\n",
       "  </tbody>\n",
       "</table>\n",
       "</div>"
      ],
      "text/plain": [
       "                                          attributes  \\\n",
       "0  {'gender': {'value': 'Male'}, 'age': {'value':...   \n",
       "1  {'gender': {'value': 'Female'}, 'age': {'value...   \n",
       "2  {'gender': {'value': 'Male'}, 'age': {'value':...   \n",
       "3  {'gender': {'value': 'Female'}, 'age': {'value...   \n",
       "4  {'gender': {'value': 'Female'}, 'age': {'value...   \n",
       "5                                                NaN   \n",
       "\n",
       "                                      face_rectangle  \\\n",
       "0  {'top': 123, 'left': 138, 'width': 90, 'height...   \n",
       "1  {'top': 122, 'left': 373, 'width': 65, 'height...   \n",
       "2  {'top': 46, 'left': 675, 'width': 54, 'height'...   \n",
       "3  {'top': 98, 'left': 235, 'width': 53, 'height'...   \n",
       "4  {'top': 75, 'left': 444, 'width': 52, 'height'...   \n",
       "5  {'top': 98, 'left': 537, 'width': 48, 'height'...   \n",
       "\n",
       "                         face_token  \n",
       "0  19014a2f703a25893d74d44345670526  \n",
       "1  0973e6ddebe8b90c2e273a7a3cb929f7  \n",
       "2  5b6bb7bc4129e7bd1cd9b8abbc5fde5b  \n",
       "3  9dc6ceaef571fc6f76567187ca588a8a  \n",
       "4  5218b8f9e7a796120954d0f7776782a7  \n",
       "5  d8a66ecb3142694b520135e787634b5a  "
      ]
     },
     "execution_count": 538,
     "metadata": {},
     "output_type": "execute_result"
    }
   ],
   "source": [
    "json_normalize(results,record_path='faces')"
   ]
  },
  {
   "cell_type": "code",
   "execution_count": 539,
   "metadata": {},
   "outputs": [
    {
     "data": {
      "text/html": [
       "<div>\n",
       "<style scoped>\n",
       "    .dataframe tbody tr th:only-of-type {\n",
       "        vertical-align: middle;\n",
       "    }\n",
       "\n",
       "    .dataframe tbody tr th {\n",
       "        vertical-align: top;\n",
       "    }\n",
       "\n",
       "    .dataframe thead th {\n",
       "        text-align: right;\n",
       "    }\n",
       "</style>\n",
       "<table border=\"1\" class=\"dataframe\">\n",
       "  <thead>\n",
       "    <tr style=\"text-align: right;\">\n",
       "      <th></th>\n",
       "      <th>faceAttributes</th>\n",
       "      <th>faceId</th>\n",
       "      <th>faceRectangle</th>\n",
       "    </tr>\n",
       "  </thead>\n",
       "  <tbody>\n",
       "    <tr>\n",
       "      <th>0</th>\n",
       "      <td>{'gender': 'male', 'age': 18.0, 'glasses': 'No...</td>\n",
       "      <td>1ef5ec67-1782-4efb-9ccb-53dcd60ddb8d</td>\n",
       "      <td>{'top': 118, 'left': 144, 'width': 88, 'height...</td>\n",
       "    </tr>\n",
       "    <tr>\n",
       "      <th>1</th>\n",
       "      <td>{'gender': 'female', 'age': 20.0, 'glasses': '...</td>\n",
       "      <td>ca48d3e0-149b-42d4-86b2-0b5665823e41</td>\n",
       "      <td>{'top': 117, 'left': 376, 'width': 64, 'height...</td>\n",
       "    </tr>\n",
       "    <tr>\n",
       "      <th>2</th>\n",
       "      <td>{'gender': 'male', 'age': 23.0, 'glasses': 'Re...</td>\n",
       "      <td>df04a73e-52b7-4ff2-a9e4-32412aa5f15e</td>\n",
       "      <td>{'top': 41, 'left': 676, 'width': 52, 'height'...</td>\n",
       "    </tr>\n",
       "    <tr>\n",
       "      <th>3</th>\n",
       "      <td>{'gender': 'female', 'age': 21.0, 'glasses': '...</td>\n",
       "      <td>224aa441-93cc-4316-8ed4-288d12a6d6c2</td>\n",
       "      <td>{'top': 69, 'left': 445, 'width': 52, 'height'...</td>\n",
       "    </tr>\n",
       "    <tr>\n",
       "      <th>4</th>\n",
       "      <td>{'gender': 'female', 'age': 17.0, 'glasses': '...</td>\n",
       "      <td>43c79d73-b7a7-48fc-9520-6102c8137949</td>\n",
       "      <td>{'top': 95, 'left': 238, 'width': 51, 'height'...</td>\n",
       "    </tr>\n",
       "    <tr>\n",
       "      <th>5</th>\n",
       "      <td>{'gender': 'female', 'age': 19.0, 'glasses': '...</td>\n",
       "      <td>d93baa98-8e6a-4ab6-bf55-d994ae5484be</td>\n",
       "      <td>{'top': 94, 'left': 540, 'width': 48, 'height'...</td>\n",
       "    </tr>\n",
       "  </tbody>\n",
       "</table>\n",
       "</div>"
      ],
      "text/plain": [
       "                                      faceAttributes  \\\n",
       "0  {'gender': 'male', 'age': 18.0, 'glasses': 'No...   \n",
       "1  {'gender': 'female', 'age': 20.0, 'glasses': '...   \n",
       "2  {'gender': 'male', 'age': 23.0, 'glasses': 'Re...   \n",
       "3  {'gender': 'female', 'age': 21.0, 'glasses': '...   \n",
       "4  {'gender': 'female', 'age': 17.0, 'glasses': '...   \n",
       "5  {'gender': 'female', 'age': 19.0, 'glasses': '...   \n",
       "\n",
       "                                 faceId  \\\n",
       "0  1ef5ec67-1782-4efb-9ccb-53dcd60ddb8d   \n",
       "1  ca48d3e0-149b-42d4-86b2-0b5665823e41   \n",
       "2  df04a73e-52b7-4ff2-a9e4-32412aa5f15e   \n",
       "3  224aa441-93cc-4316-8ed4-288d12a6d6c2   \n",
       "4  43c79d73-b7a7-48fc-9520-6102c8137949   \n",
       "5  d93baa98-8e6a-4ab6-bf55-d994ae5484be   \n",
       "\n",
       "                                       faceRectangle  \n",
       "0  {'top': 118, 'left': 144, 'width': 88, 'height...  \n",
       "1  {'top': 117, 'left': 376, 'width': 64, 'height...  \n",
       "2  {'top': 41, 'left': 676, 'width': 52, 'height'...  \n",
       "3  {'top': 69, 'left': 445, 'width': 52, 'height'...  \n",
       "4  {'top': 95, 'left': 238, 'width': 51, 'height'...  \n",
       "5  {'top': 94, 'left': 540, 'width': 48, 'height'...  "
      ]
     },
     "execution_count": 539,
     "metadata": {},
     "output_type": "execute_result"
    }
   ],
   "source": [
    "df"
   ]
  },
  {
   "cell_type": "code",
   "execution_count": 540,
   "metadata": {},
   "outputs": [],
   "source": [
    "# df_face_rectangle = df[['face_token','face_rectangle.top','face_rectangle.left','face_rectangle.width','face_rectangle.height']]"
   ]
  },
  {
   "cell_type": "markdown",
   "metadata": {},
   "source": [
    "----"
   ]
  },
  {
   "cell_type": "markdown",
   "metadata": {},
   "source": [
    "###  face_rectangle (pandas常规方法)\n",
    "* 先针对这变量看观察"
   ]
  },
  {
   "cell_type": "code",
   "execution_count": 541,
   "metadata": {},
   "outputs": [
    {
     "data": {
      "text/html": [
       "<div>\n",
       "<style scoped>\n",
       "    .dataframe tbody tr th:only-of-type {\n",
       "        vertical-align: middle;\n",
       "    }\n",
       "\n",
       "    .dataframe tbody tr th {\n",
       "        vertical-align: top;\n",
       "    }\n",
       "\n",
       "    .dataframe thead th {\n",
       "        text-align: right;\n",
       "    }\n",
       "</style>\n",
       "<table border=\"1\" class=\"dataframe\">\n",
       "  <thead>\n",
       "    <tr style=\"text-align: right;\">\n",
       "      <th></th>\n",
       "      <th>attributes</th>\n",
       "      <th>face_rectangle</th>\n",
       "      <th>face_token</th>\n",
       "    </tr>\n",
       "  </thead>\n",
       "  <tbody>\n",
       "    <tr>\n",
       "      <th>0</th>\n",
       "      <td>{'gender': {'value': 'Male'}, 'age': {'value':...</td>\n",
       "      <td>{'top': 123, 'left': 138, 'width': 90, 'height...</td>\n",
       "      <td>19014a2f703a25893d74d44345670526</td>\n",
       "    </tr>\n",
       "    <tr>\n",
       "      <th>1</th>\n",
       "      <td>{'gender': {'value': 'Female'}, 'age': {'value...</td>\n",
       "      <td>{'top': 122, 'left': 373, 'width': 65, 'height...</td>\n",
       "      <td>0973e6ddebe8b90c2e273a7a3cb929f7</td>\n",
       "    </tr>\n",
       "    <tr>\n",
       "      <th>2</th>\n",
       "      <td>{'gender': {'value': 'Male'}, 'age': {'value':...</td>\n",
       "      <td>{'top': 46, 'left': 675, 'width': 54, 'height'...</td>\n",
       "      <td>5b6bb7bc4129e7bd1cd9b8abbc5fde5b</td>\n",
       "    </tr>\n",
       "    <tr>\n",
       "      <th>3</th>\n",
       "      <td>{'gender': {'value': 'Female'}, 'age': {'value...</td>\n",
       "      <td>{'top': 98, 'left': 235, 'width': 53, 'height'...</td>\n",
       "      <td>9dc6ceaef571fc6f76567187ca588a8a</td>\n",
       "    </tr>\n",
       "    <tr>\n",
       "      <th>4</th>\n",
       "      <td>{'gender': {'value': 'Female'}, 'age': {'value...</td>\n",
       "      <td>{'top': 75, 'left': 444, 'width': 52, 'height'...</td>\n",
       "      <td>5218b8f9e7a796120954d0f7776782a7</td>\n",
       "    </tr>\n",
       "    <tr>\n",
       "      <th>5</th>\n",
       "      <td>NaN</td>\n",
       "      <td>{'top': 98, 'left': 537, 'width': 48, 'height'...</td>\n",
       "      <td>d8a66ecb3142694b520135e787634b5a</td>\n",
       "    </tr>\n",
       "  </tbody>\n",
       "</table>\n",
       "</div>"
      ],
      "text/plain": [
       "                                          attributes  \\\n",
       "0  {'gender': {'value': 'Male'}, 'age': {'value':...   \n",
       "1  {'gender': {'value': 'Female'}, 'age': {'value...   \n",
       "2  {'gender': {'value': 'Male'}, 'age': {'value':...   \n",
       "3  {'gender': {'value': 'Female'}, 'age': {'value...   \n",
       "4  {'gender': {'value': 'Female'}, 'age': {'value...   \n",
       "5                                                NaN   \n",
       "\n",
       "                                      face_rectangle  \\\n",
       "0  {'top': 123, 'left': 138, 'width': 90, 'height...   \n",
       "1  {'top': 122, 'left': 373, 'width': 65, 'height...   \n",
       "2  {'top': 46, 'left': 675, 'width': 54, 'height'...   \n",
       "3  {'top': 98, 'left': 235, 'width': 53, 'height'...   \n",
       "4  {'top': 75, 'left': 444, 'width': 52, 'height'...   \n",
       "5  {'top': 98, 'left': 537, 'width': 48, 'height'...   \n",
       "\n",
       "                         face_token  \n",
       "0  19014a2f703a25893d74d44345670526  \n",
       "1  0973e6ddebe8b90c2e273a7a3cb929f7  \n",
       "2  5b6bb7bc4129e7bd1cd9b8abbc5fde5b  \n",
       "3  9dc6ceaef571fc6f76567187ca588a8a  \n",
       "4  5218b8f9e7a796120954d0f7776782a7  \n",
       "5  d8a66ecb3142694b520135e787634b5a  "
      ]
     },
     "execution_count": 541,
     "metadata": {},
     "output_type": "execute_result"
    }
   ],
   "source": [
    "# 立马试试pd.DataFrame 並观察\n",
    "faces_data = results['faces']\n",
    "df = pd.DataFrame(faces_data)\n",
    "df\n",
    "\n",
    "# attributes, face_rectangle, face_token\n",
    "# 查一下API文檔"
   ]
  },
  {
   "cell_type": "code",
   "execution_count": 542,
   "metadata": {},
   "outputs": [
    {
     "data": {
      "text/plain": [
       "0    {'top': 123, 'left': 138, 'width': 90, 'height...\n",
       "1    {'top': 122, 'left': 373, 'width': 65, 'height...\n",
       "2    {'top': 46, 'left': 675, 'width': 54, 'height'...\n",
       "3    {'top': 98, 'left': 235, 'width': 53, 'height'...\n",
       "4    {'top': 75, 'left': 444, 'width': 52, 'height'...\n",
       "5    {'top': 98, 'left': 537, 'width': 48, 'height'...\n",
       "Name: face_rectangle, dtype: object"
      ]
     },
     "execution_count": 542,
     "metadata": {},
     "output_type": "execute_result"
    }
   ],
   "source": [
    "# 取变量 (pandas cheetsheet)\n",
    "df[\"face_rectangle\"]"
   ]
  },
  {
   "cell_type": "code",
   "execution_count": 543,
   "metadata": {},
   "outputs": [
    {
     "data": {
      "text/plain": [
       "{0: {'top': 123, 'left': 138, 'width': 90, 'height': 90},\n",
       " 1: {'top': 122, 'left': 373, 'width': 65, 'height': 65},\n",
       " 2: {'top': 46, 'left': 675, 'width': 54, 'height': 54},\n",
       " 3: {'top': 98, 'left': 235, 'width': 53, 'height': 53},\n",
       " 4: {'top': 75, 'left': 444, 'width': 52, 'height': 52},\n",
       " 5: {'top': 98, 'left': 537, 'width': 48, 'height': 48}}"
      ]
     },
     "execution_count": 543,
     "metadata": {},
     "output_type": "execute_result"
    }
   ],
   "source": [
    "df[\"face_rectangle\"].to_dict()"
   ]
  },
  {
   "cell_type": "code",
   "execution_count": 544,
   "metadata": {},
   "outputs": [
    {
     "data": {
      "text/html": [
       "<div>\n",
       "<style scoped>\n",
       "    .dataframe tbody tr th:only-of-type {\n",
       "        vertical-align: middle;\n",
       "    }\n",
       "\n",
       "    .dataframe tbody tr th {\n",
       "        vertical-align: top;\n",
       "    }\n",
       "\n",
       "    .dataframe thead th {\n",
       "        text-align: right;\n",
       "    }\n",
       "</style>\n",
       "<table border=\"1\" class=\"dataframe\">\n",
       "  <thead>\n",
       "    <tr style=\"text-align: right;\">\n",
       "      <th></th>\n",
       "      <th>0</th>\n",
       "      <th>1</th>\n",
       "      <th>2</th>\n",
       "      <th>3</th>\n",
       "      <th>4</th>\n",
       "      <th>5</th>\n",
       "    </tr>\n",
       "  </thead>\n",
       "  <tbody>\n",
       "    <tr>\n",
       "      <th>height</th>\n",
       "      <td>90</td>\n",
       "      <td>65</td>\n",
       "      <td>54</td>\n",
       "      <td>53</td>\n",
       "      <td>52</td>\n",
       "      <td>48</td>\n",
       "    </tr>\n",
       "    <tr>\n",
       "      <th>left</th>\n",
       "      <td>138</td>\n",
       "      <td>373</td>\n",
       "      <td>675</td>\n",
       "      <td>235</td>\n",
       "      <td>444</td>\n",
       "      <td>537</td>\n",
       "    </tr>\n",
       "    <tr>\n",
       "      <th>top</th>\n",
       "      <td>123</td>\n",
       "      <td>122</td>\n",
       "      <td>46</td>\n",
       "      <td>98</td>\n",
       "      <td>75</td>\n",
       "      <td>98</td>\n",
       "    </tr>\n",
       "    <tr>\n",
       "      <th>width</th>\n",
       "      <td>90</td>\n",
       "      <td>65</td>\n",
       "      <td>54</td>\n",
       "      <td>53</td>\n",
       "      <td>52</td>\n",
       "      <td>48</td>\n",
       "    </tr>\n",
       "  </tbody>\n",
       "</table>\n",
       "</div>"
      ],
      "text/plain": [
       "          0    1    2    3    4    5\n",
       "height   90   65   54   53   52   48\n",
       "left    138  373  675  235  444  537\n",
       "top     123  122   46   98   75   98\n",
       "width    90   65   54   53   52   48"
      ]
     },
     "execution_count": 544,
     "metadata": {},
     "output_type": "execute_result"
    }
   ],
   "source": [
    "pd.DataFrame(df[\"face_rectangle\"].to_dict())"
   ]
  },
  {
   "cell_type": "code",
   "execution_count": 545,
   "metadata": {},
   "outputs": [
    {
     "data": {
      "text/html": [
       "<div>\n",
       "<style scoped>\n",
       "    .dataframe tbody tr th:only-of-type {\n",
       "        vertical-align: middle;\n",
       "    }\n",
       "\n",
       "    .dataframe tbody tr th {\n",
       "        vertical-align: top;\n",
       "    }\n",
       "\n",
       "    .dataframe thead th {\n",
       "        text-align: right;\n",
       "    }\n",
       "</style>\n",
       "<table border=\"1\" class=\"dataframe\">\n",
       "  <thead>\n",
       "    <tr style=\"text-align: right;\">\n",
       "      <th></th>\n",
       "      <th>height</th>\n",
       "      <th>left</th>\n",
       "      <th>top</th>\n",
       "      <th>width</th>\n",
       "    </tr>\n",
       "  </thead>\n",
       "  <tbody>\n",
       "    <tr>\n",
       "      <th>0</th>\n",
       "      <td>90</td>\n",
       "      <td>138</td>\n",
       "      <td>123</td>\n",
       "      <td>90</td>\n",
       "    </tr>\n",
       "    <tr>\n",
       "      <th>1</th>\n",
       "      <td>65</td>\n",
       "      <td>373</td>\n",
       "      <td>122</td>\n",
       "      <td>65</td>\n",
       "    </tr>\n",
       "    <tr>\n",
       "      <th>2</th>\n",
       "      <td>54</td>\n",
       "      <td>675</td>\n",
       "      <td>46</td>\n",
       "      <td>54</td>\n",
       "    </tr>\n",
       "    <tr>\n",
       "      <th>3</th>\n",
       "      <td>53</td>\n",
       "      <td>235</td>\n",
       "      <td>98</td>\n",
       "      <td>53</td>\n",
       "    </tr>\n",
       "    <tr>\n",
       "      <th>4</th>\n",
       "      <td>52</td>\n",
       "      <td>444</td>\n",
       "      <td>75</td>\n",
       "      <td>52</td>\n",
       "    </tr>\n",
       "    <tr>\n",
       "      <th>5</th>\n",
       "      <td>48</td>\n",
       "      <td>537</td>\n",
       "      <td>98</td>\n",
       "      <td>48</td>\n",
       "    </tr>\n",
       "  </tbody>\n",
       "</table>\n",
       "</div>"
      ],
      "text/plain": [
       "   height  left  top  width\n",
       "0      90   138  123     90\n",
       "1      65   373  122     65\n",
       "2      54   675   46     54\n",
       "3      53   235   98     53\n",
       "4      52   444   75     52\n",
       "5      48   537   98     48"
      ]
     },
     "execution_count": 545,
     "metadata": {},
     "output_type": "execute_result"
    }
   ],
   "source": [
    "pd.DataFrame(df[\"face_rectangle\"].to_dict()).T"
   ]
  },
  {
   "cell_type": "code",
   "execution_count": 546,
   "metadata": {},
   "outputs": [
    {
     "data": {
      "text/html": [
       "<div>\n",
       "<style scoped>\n",
       "    .dataframe tbody tr th:only-of-type {\n",
       "        vertical-align: middle;\n",
       "    }\n",
       "\n",
       "    .dataframe tbody tr th {\n",
       "        vertical-align: top;\n",
       "    }\n",
       "\n",
       "    .dataframe thead th {\n",
       "        text-align: right;\n",
       "    }\n",
       "</style>\n",
       "<table border=\"1\" class=\"dataframe\">\n",
       "  <thead>\n",
       "    <tr style=\"text-align: right;\">\n",
       "      <th></th>\n",
       "      <th>face_rectangle_height</th>\n",
       "      <th>face_rectangle_left</th>\n",
       "      <th>face_rectangle_top</th>\n",
       "      <th>face_rectangle_width</th>\n",
       "    </tr>\n",
       "  </thead>\n",
       "  <tbody>\n",
       "    <tr>\n",
       "      <th>0</th>\n",
       "      <td>90</td>\n",
       "      <td>138</td>\n",
       "      <td>123</td>\n",
       "      <td>90</td>\n",
       "    </tr>\n",
       "    <tr>\n",
       "      <th>1</th>\n",
       "      <td>65</td>\n",
       "      <td>373</td>\n",
       "      <td>122</td>\n",
       "      <td>65</td>\n",
       "    </tr>\n",
       "    <tr>\n",
       "      <th>2</th>\n",
       "      <td>54</td>\n",
       "      <td>675</td>\n",
       "      <td>46</td>\n",
       "      <td>54</td>\n",
       "    </tr>\n",
       "    <tr>\n",
       "      <th>3</th>\n",
       "      <td>53</td>\n",
       "      <td>235</td>\n",
       "      <td>98</td>\n",
       "      <td>53</td>\n",
       "    </tr>\n",
       "    <tr>\n",
       "      <th>4</th>\n",
       "      <td>52</td>\n",
       "      <td>444</td>\n",
       "      <td>75</td>\n",
       "      <td>52</td>\n",
       "    </tr>\n",
       "    <tr>\n",
       "      <th>5</th>\n",
       "      <td>48</td>\n",
       "      <td>537</td>\n",
       "      <td>98</td>\n",
       "      <td>48</td>\n",
       "    </tr>\n",
       "  </tbody>\n",
       "</table>\n",
       "</div>"
      ],
      "text/plain": [
       "   face_rectangle_height  face_rectangle_left  face_rectangle_top  \\\n",
       "0                     90                  138                 123   \n",
       "1                     65                  373                 122   \n",
       "2                     54                  675                  46   \n",
       "3                     53                  235                  98   \n",
       "4                     52                  444                  75   \n",
       "5                     48                  537                  98   \n",
       "\n",
       "   face_rectangle_width  \n",
       "0                    90  \n",
       "1                    65  \n",
       "2                    54  \n",
       "3                    53  \n",
       "4                    52  \n",
       "5                    48  "
      ]
     },
     "execution_count": 546,
     "metadata": {},
     "output_type": "execute_result"
    }
   ],
   "source": [
    "df_rect = pd.DataFrame(df[\"face_rectangle\"].to_dict()).T\n",
    "# 欄位名稱加上 face_rectangle \n",
    "df_rect.columns = [ \"face_rectangle_\"+x for x in df_rect.columns]\n",
    "df_rect"
   ]
  },
  {
   "cell_type": "code",
   "execution_count": 547,
   "metadata": {},
   "outputs": [
    {
     "data": {
      "text/html": [
       "<div>\n",
       "<style scoped>\n",
       "    .dataframe tbody tr th:only-of-type {\n",
       "        vertical-align: middle;\n",
       "    }\n",
       "\n",
       "    .dataframe tbody tr th {\n",
       "        vertical-align: top;\n",
       "    }\n",
       "\n",
       "    .dataframe thead th {\n",
       "        text-align: right;\n",
       "    }\n",
       "</style>\n",
       "<table border=\"1\" class=\"dataframe\">\n",
       "  <thead>\n",
       "    <tr style=\"text-align: right;\">\n",
       "      <th></th>\n",
       "      <th>attributes</th>\n",
       "      <th>face_rectangle</th>\n",
       "      <th>face_token</th>\n",
       "      <th>face_rectangle_height</th>\n",
       "      <th>face_rectangle_left</th>\n",
       "      <th>face_rectangle_top</th>\n",
       "      <th>face_rectangle_width</th>\n",
       "    </tr>\n",
       "  </thead>\n",
       "  <tbody>\n",
       "    <tr>\n",
       "      <th>0</th>\n",
       "      <td>{'gender': {'value': 'Male'}, 'age': {'value':...</td>\n",
       "      <td>{'top': 123, 'left': 138, 'width': 90, 'height...</td>\n",
       "      <td>19014a2f703a25893d74d44345670526</td>\n",
       "      <td>90</td>\n",
       "      <td>138</td>\n",
       "      <td>123</td>\n",
       "      <td>90</td>\n",
       "    </tr>\n",
       "    <tr>\n",
       "      <th>1</th>\n",
       "      <td>{'gender': {'value': 'Female'}, 'age': {'value...</td>\n",
       "      <td>{'top': 122, 'left': 373, 'width': 65, 'height...</td>\n",
       "      <td>0973e6ddebe8b90c2e273a7a3cb929f7</td>\n",
       "      <td>65</td>\n",
       "      <td>373</td>\n",
       "      <td>122</td>\n",
       "      <td>65</td>\n",
       "    </tr>\n",
       "    <tr>\n",
       "      <th>2</th>\n",
       "      <td>{'gender': {'value': 'Male'}, 'age': {'value':...</td>\n",
       "      <td>{'top': 46, 'left': 675, 'width': 54, 'height'...</td>\n",
       "      <td>5b6bb7bc4129e7bd1cd9b8abbc5fde5b</td>\n",
       "      <td>54</td>\n",
       "      <td>675</td>\n",
       "      <td>46</td>\n",
       "      <td>54</td>\n",
       "    </tr>\n",
       "    <tr>\n",
       "      <th>3</th>\n",
       "      <td>{'gender': {'value': 'Female'}, 'age': {'value...</td>\n",
       "      <td>{'top': 98, 'left': 235, 'width': 53, 'height'...</td>\n",
       "      <td>9dc6ceaef571fc6f76567187ca588a8a</td>\n",
       "      <td>53</td>\n",
       "      <td>235</td>\n",
       "      <td>98</td>\n",
       "      <td>53</td>\n",
       "    </tr>\n",
       "    <tr>\n",
       "      <th>4</th>\n",
       "      <td>{'gender': {'value': 'Female'}, 'age': {'value...</td>\n",
       "      <td>{'top': 75, 'left': 444, 'width': 52, 'height'...</td>\n",
       "      <td>5218b8f9e7a796120954d0f7776782a7</td>\n",
       "      <td>52</td>\n",
       "      <td>444</td>\n",
       "      <td>75</td>\n",
       "      <td>52</td>\n",
       "    </tr>\n",
       "    <tr>\n",
       "      <th>5</th>\n",
       "      <td>NaN</td>\n",
       "      <td>{'top': 98, 'left': 537, 'width': 48, 'height'...</td>\n",
       "      <td>d8a66ecb3142694b520135e787634b5a</td>\n",
       "      <td>48</td>\n",
       "      <td>537</td>\n",
       "      <td>98</td>\n",
       "      <td>48</td>\n",
       "    </tr>\n",
       "  </tbody>\n",
       "</table>\n",
       "</div>"
      ],
      "text/plain": [
       "                                          attributes  \\\n",
       "0  {'gender': {'value': 'Male'}, 'age': {'value':...   \n",
       "1  {'gender': {'value': 'Female'}, 'age': {'value...   \n",
       "2  {'gender': {'value': 'Male'}, 'age': {'value':...   \n",
       "3  {'gender': {'value': 'Female'}, 'age': {'value...   \n",
       "4  {'gender': {'value': 'Female'}, 'age': {'value...   \n",
       "5                                                NaN   \n",
       "\n",
       "                                      face_rectangle  \\\n",
       "0  {'top': 123, 'left': 138, 'width': 90, 'height...   \n",
       "1  {'top': 122, 'left': 373, 'width': 65, 'height...   \n",
       "2  {'top': 46, 'left': 675, 'width': 54, 'height'...   \n",
       "3  {'top': 98, 'left': 235, 'width': 53, 'height'...   \n",
       "4  {'top': 75, 'left': 444, 'width': 52, 'height'...   \n",
       "5  {'top': 98, 'left': 537, 'width': 48, 'height'...   \n",
       "\n",
       "                         face_token  face_rectangle_height  \\\n",
       "0  19014a2f703a25893d74d44345670526                     90   \n",
       "1  0973e6ddebe8b90c2e273a7a3cb929f7                     65   \n",
       "2  5b6bb7bc4129e7bd1cd9b8abbc5fde5b                     54   \n",
       "3  9dc6ceaef571fc6f76567187ca588a8a                     53   \n",
       "4  5218b8f9e7a796120954d0f7776782a7                     52   \n",
       "5  d8a66ecb3142694b520135e787634b5a                     48   \n",
       "\n",
       "   face_rectangle_left  face_rectangle_top  face_rectangle_width  \n",
       "0                  138                 123                    90  \n",
       "1                  373                 122                    65  \n",
       "2                  675                  46                    54  \n",
       "3                  235                  98                    53  \n",
       "4                  444                  75                    52  \n",
       "5                  537                  98                    48  "
      ]
     },
     "execution_count": 547,
     "metadata": {},
     "output_type": "execute_result"
    }
   ],
   "source": [
    "# 使用.join合併\n",
    "df.join(df_rect)"
   ]
  },
  {
   "cell_type": "markdown",
   "metadata": {},
   "source": [
    "###  face_rectangle\n",
    "* 該你了\n",
    "* 如何類似手法，運用你pandas的知識，抽出 attributes的數據\n"
   ]
  },
  {
   "cell_type": "code",
   "execution_count": 548,
   "metadata": {},
   "outputs": [
    {
     "data": {
      "text/plain": [
       "0    {'gender': {'value': 'Male'}, 'age': {'value':...\n",
       "1    {'gender': {'value': 'Female'}, 'age': {'value...\n",
       "2    {'gender': {'value': 'Male'}, 'age': {'value':...\n",
       "3    {'gender': {'value': 'Female'}, 'age': {'value...\n",
       "4    {'gender': {'value': 'Female'}, 'age': {'value...\n",
       "5                                                  NaN\n",
       "Name: attributes, dtype: object"
      ]
     },
     "execution_count": 548,
     "metadata": {},
     "output_type": "execute_result"
    }
   ],
   "source": [
    "df[\"attributes\"]"
   ]
  },
  {
   "cell_type": "code",
   "execution_count": 549,
   "metadata": {},
   "outputs": [
    {
     "data": {
      "text/plain": [
       "{'anger': 0.001,\n",
       " 'disgust': 0.001,\n",
       " 'fear': 0.027,\n",
       " 'happiness': 99.933,\n",
       " 'neutral': 0.027,\n",
       " 'sadness': 0.01,\n",
       " 'surprise': 0.001}"
      ]
     },
     "execution_count": 549,
     "metadata": {},
     "output_type": "execute_result"
    }
   ],
   "source": [
    "df[\"attributes\"].loc[4]['emotion']"
   ]
  },
  {
   "cell_type": "code",
   "execution_count": 550,
   "metadata": {},
   "outputs": [
    {
     "data": {
      "text/plain": [
       "dict"
      ]
     },
     "execution_count": 550,
     "metadata": {},
     "output_type": "execute_result"
    }
   ],
   "source": [
    "type(df[\"attributes\"].loc[0]['emotion'])"
   ]
  },
  {
   "cell_type": "code",
   "execution_count": 551,
   "metadata": {},
   "outputs": [
    {
     "data": {
      "text/plain": [
       "{'anger': 0.001,\n",
       " 'disgust': 0.001,\n",
       " 'fear': 0.027,\n",
       " 'happiness': 99.933,\n",
       " 'neutral': 0.027,\n",
       " 'sadness': 0.01,\n",
       " 'surprise': 0.001}"
      ]
     },
     "execution_count": 551,
     "metadata": {},
     "output_type": "execute_result"
    }
   ],
   "source": [
    "df[\"attributes\"].loc[4]['emotion']"
   ]
  },
  {
   "cell_type": "code",
   "execution_count": 552,
   "metadata": {},
   "outputs": [
    {
     "data": {
      "text/plain": [
       "0    {'gender': {'value': 'Male'}, 'age': {'value':...\n",
       "1    {'gender': {'value': 'Female'}, 'age': {'value...\n",
       "2    {'gender': {'value': 'Male'}, 'age': {'value':...\n",
       "3    {'gender': {'value': 'Female'}, 'age': {'value...\n",
       "4    {'gender': {'value': 'Female'}, 'age': {'value...\n",
       "5                                                  NaN\n",
       "Name: attributes, dtype: object"
      ]
     },
     "execution_count": 552,
     "metadata": {},
     "output_type": "execute_result"
    }
   ],
   "source": [
    "import numpy as np  # missing value np.nan\n",
    "missing_value = {\"emotion\": {'sadness': np.nan, 'neutral': np.nan, 'disgust': np.nan, 'anger': np.nan, 'surprise': np.nan, 'fear': np.nan, 'happiness': np.nan}}\n",
    "df[\"attributes\"] = df[\"attributes\"].fillna(missing_value)\n",
    "df[\"attributes\"]\n"
   ]
  },
  {
   "cell_type": "code",
   "execution_count": 553,
   "metadata": {},
   "outputs": [
    {
     "data": {
      "text/plain": [
       "0    {'gender': {'value': 'Male'}, 'age': {'value':...\n",
       "1    {'gender': {'value': 'Female'}, 'age': {'value...\n",
       "2    {'gender': {'value': 'Male'}, 'age': {'value':...\n",
       "3    {'gender': {'value': 'Female'}, 'age': {'value...\n",
       "4    {'gender': {'value': 'Female'}, 'age': {'value...\n",
       "5                                                     \n",
       "Name: attributes, dtype: object"
      ]
     },
     "execution_count": 553,
     "metadata": {},
     "output_type": "execute_result"
    }
   ],
   "source": [
    "df[\"attributes\"].fillna(\"\")"
   ]
  },
  {
   "cell_type": "code",
   "execution_count": 554,
   "metadata": {},
   "outputs": [],
   "source": [
    "# for i in df[\"attributes\"].index:\n",
    "#     print (i,df[\"attributes\"].loc[i][\"emotion\"])\n",
    "#     print (i,df[\"attributes\"].loc[i].get(\"emotion\")  )"
   ]
  },
  {
   "cell_type": "code",
   "execution_count": 555,
   "metadata": {},
   "outputs": [
    {
     "data": {
      "text/plain": [
       "dict"
      ]
     },
     "execution_count": 555,
     "metadata": {},
     "output_type": "execute_result"
    }
   ],
   "source": [
    "type(df[\"attributes\"].loc[0])"
   ]
  },
  {
   "cell_type": "code",
   "execution_count": 556,
   "metadata": {},
   "outputs": [
    {
     "data": {
      "text/plain": [
       "[{'anger': 0.059,\n",
       "  'disgust': 0.059,\n",
       "  'fear': 0.059,\n",
       "  'happiness': 42.294,\n",
       "  'neutral': 52.431,\n",
       "  'sadness': 4.92,\n",
       "  'surprise': 0.179},\n",
       " {'anger': 0.169,\n",
       "  'disgust': 7.28,\n",
       "  'fear': 0.138,\n",
       "  'happiness': 17.689,\n",
       "  'neutral': 8.067,\n",
       "  'sadness': 66.519,\n",
       "  'surprise': 0.138},\n",
       " {'anger': 0.0,\n",
       "  'disgust': 0.0,\n",
       "  'fear': 0.0,\n",
       "  'happiness': 99.996,\n",
       "  'neutral': 0.001,\n",
       "  'sadness': 0.002,\n",
       "  'surprise': 0.001},\n",
       " {'anger': 0.0,\n",
       "  'disgust': 0.001,\n",
       "  'fear': 0.0,\n",
       "  'happiness': 99.99,\n",
       "  'neutral': 0.009,\n",
       "  'sadness': 0.0,\n",
       "  'surprise': 0.0},\n",
       " {'anger': 0.001,\n",
       "  'disgust': 0.001,\n",
       "  'fear': 0.027,\n",
       "  'happiness': 99.933,\n",
       "  'neutral': 0.027,\n",
       "  'sadness': 0.01,\n",
       "  'surprise': 0.001},\n",
       " {'emotion': {'sadness': nan,\n",
       "   'neutral': nan,\n",
       "   'disgust': nan,\n",
       "   'anger': nan,\n",
       "   'surprise': nan,\n",
       "   'fear': nan,\n",
       "   'happiness': nan}}]"
      ]
     },
     "execution_count": 556,
     "metadata": {},
     "output_type": "execute_result"
    }
   ],
   "source": [
    "[df[\"attributes\"].loc[i][\"emotion\"] \\\n",
    " if type(df[\"attributes\"].loc[i])  is dict \\\n",
    " else missing_value for i in df[\"attributes\"].index ]"
   ]
  },
  {
   "cell_type": "code",
   "execution_count": 557,
   "metadata": {
    "scrolled": false
   },
   "outputs": [
    {
     "data": {
      "text/html": [
       "<div>\n",
       "<style scoped>\n",
       "    .dataframe tbody tr th:only-of-type {\n",
       "        vertical-align: middle;\n",
       "    }\n",
       "\n",
       "    .dataframe tbody tr th {\n",
       "        vertical-align: top;\n",
       "    }\n",
       "\n",
       "    .dataframe thead th {\n",
       "        text-align: right;\n",
       "    }\n",
       "</style>\n",
       "<table border=\"1\" class=\"dataframe\">\n",
       "  <thead>\n",
       "    <tr style=\"text-align: right;\">\n",
       "      <th></th>\n",
       "      <th>attributes_emotion_anger</th>\n",
       "      <th>attributes_emotion_disgust</th>\n",
       "      <th>attributes_emotion_fear</th>\n",
       "      <th>attributes_emotion_happiness</th>\n",
       "      <th>attributes_emotion_neutral</th>\n",
       "      <th>attributes_emotion_sadness</th>\n",
       "      <th>attributes_emotion_surprise</th>\n",
       "    </tr>\n",
       "  </thead>\n",
       "  <tbody>\n",
       "    <tr>\n",
       "      <th>0</th>\n",
       "      <td>0.059</td>\n",
       "      <td>0.059</td>\n",
       "      <td>0.059</td>\n",
       "      <td>42.294</td>\n",
       "      <td>52.431</td>\n",
       "      <td>4.920</td>\n",
       "      <td>0.179</td>\n",
       "    </tr>\n",
       "    <tr>\n",
       "      <th>1</th>\n",
       "      <td>0.169</td>\n",
       "      <td>7.280</td>\n",
       "      <td>0.138</td>\n",
       "      <td>17.689</td>\n",
       "      <td>8.067</td>\n",
       "      <td>66.519</td>\n",
       "      <td>0.138</td>\n",
       "    </tr>\n",
       "    <tr>\n",
       "      <th>2</th>\n",
       "      <td>0.000</td>\n",
       "      <td>0.000</td>\n",
       "      <td>0.000</td>\n",
       "      <td>99.996</td>\n",
       "      <td>0.001</td>\n",
       "      <td>0.002</td>\n",
       "      <td>0.001</td>\n",
       "    </tr>\n",
       "    <tr>\n",
       "      <th>3</th>\n",
       "      <td>0.000</td>\n",
       "      <td>0.001</td>\n",
       "      <td>0.000</td>\n",
       "      <td>99.990</td>\n",
       "      <td>0.009</td>\n",
       "      <td>0.000</td>\n",
       "      <td>0.000</td>\n",
       "    </tr>\n",
       "    <tr>\n",
       "      <th>4</th>\n",
       "      <td>0.001</td>\n",
       "      <td>0.001</td>\n",
       "      <td>0.027</td>\n",
       "      <td>99.933</td>\n",
       "      <td>0.027</td>\n",
       "      <td>0.010</td>\n",
       "      <td>0.001</td>\n",
       "    </tr>\n",
       "    <tr>\n",
       "      <th>5</th>\n",
       "      <td>NaN</td>\n",
       "      <td>NaN</td>\n",
       "      <td>NaN</td>\n",
       "      <td>NaN</td>\n",
       "      <td>NaN</td>\n",
       "      <td>NaN</td>\n",
       "      <td>NaN</td>\n",
       "    </tr>\n",
       "  </tbody>\n",
       "</table>\n",
       "</div>"
      ],
      "text/plain": [
       "   attributes_emotion_anger  attributes_emotion_disgust  \\\n",
       "0                     0.059                       0.059   \n",
       "1                     0.169                       7.280   \n",
       "2                     0.000                       0.000   \n",
       "3                     0.000                       0.001   \n",
       "4                     0.001                       0.001   \n",
       "5                       NaN                         NaN   \n",
       "\n",
       "   attributes_emotion_fear  attributes_emotion_happiness  \\\n",
       "0                    0.059                        42.294   \n",
       "1                    0.138                        17.689   \n",
       "2                    0.000                        99.996   \n",
       "3                    0.000                        99.990   \n",
       "4                    0.027                        99.933   \n",
       "5                      NaN                           NaN   \n",
       "\n",
       "   attributes_emotion_neutral  attributes_emotion_sadness  \\\n",
       "0                      52.431                       4.920   \n",
       "1                       8.067                      66.519   \n",
       "2                       0.001                       0.002   \n",
       "3                       0.009                       0.000   \n",
       "4                       0.027                       0.010   \n",
       "5                         NaN                         NaN   \n",
       "\n",
       "   attributes_emotion_surprise  \n",
       "0                        0.179  \n",
       "1                        0.138  \n",
       "2                        0.001  \n",
       "3                        0.000  \n",
       "4                        0.001  \n",
       "5                          NaN  "
      ]
     },
     "execution_count": 557,
     "metadata": {},
     "output_type": "execute_result"
    }
   ],
   "source": [
    "df_attr_emotion = pd.DataFrame([\\\n",
    "    df[\"attributes\"].loc[i][\"emotion\"] \\\n",
    "    if type(df[\"attributes\"].loc[i])  \\\n",
    "    is dict else missing_value['emotion'] \\\n",
    "    for i in df[\"attributes\"].index ])\n",
    "# 欄位名稱加上 face_rectangle \n",
    "df_attr_emotion.columns = \\\n",
    "[ \"attributes_emotion_\"+x for x in df_attr_emotion.columns]\n",
    "df_attr_emotion"
   ]
  }
 ],
 "metadata": {
  "kernelspec": {
   "display_name": "Python 3",
   "language": "python",
   "name": "python3"
  },
  "language_info": {
   "codemirror_mode": {
    "name": "ipython",
    "version": 3
   },
   "file_extension": ".py",
   "mimetype": "text/x-python",
   "name": "python",
   "nbconvert_exporter": "python",
   "pygments_lexer": "ipython3",
   "version": "3.7.4"
  },
  "toc": {
   "base_numbering": 1,
   "nav_menu": {},
   "number_sections": true,
   "sideBar": true,
   "skip_h1_title": false,
   "title_cell": "Table of Contents",
   "title_sidebar": "Contents",
   "toc_cell": false,
   "toc_position": {
    "height": "calc(100% - 180px)",
    "left": "10px",
    "top": "150px",
    "width": "227.667px"
   },
   "toc_section_display": true,
   "toc_window_display": true
  }
 },
 "nbformat": 4,
 "nbformat_minor": 2
}
